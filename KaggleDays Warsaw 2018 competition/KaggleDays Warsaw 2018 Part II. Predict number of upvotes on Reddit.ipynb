{
 "cells": [
  {
   "cell_type": "markdown",
   "metadata": {},
   "source": [
    "# Kaggle Days Warsaw 2018 - Part 2\n",
    "\n",
    "This year on 18-19 of May I had an opportunity to take part in first ever offline kaggle competition - Kaggle Days Warsaw 2018. The competition goal was to predict the number of upvotes for given reddit answers, having information such as time or post content. Of all competing teams (around 40) my team was finally 12th. It's far from awesome, but given we compteted against much more experienced people (and Kaggle Masters) I consider this a decent result.\n",
    "\n",
    "My aim is to improve our result and check which place could we reach with some improvements in our code. This is my second notebook related to this problem - the first one focused solely on data exploration and feature engineering. Now, I'll use insights from it to build a model and do some prediction. "
   ]
  },
  {
   "cell_type": "code",
   "execution_count": 1,
   "metadata": {},
   "outputs": [],
   "source": [
    "#Some casual imports\n",
    "#data manipulation\n",
    "import numpy as np\n",
    "import pandas as pd\n",
    "\n",
    "#dataviz\n",
    "from matplotlib import pyplot as plt\n",
    "%matplotlib inline\n",
    "import seaborn as sns\n",
    "\n",
    "\n",
    "#for sklearn pipelines and modelling\n",
    "from sklearn.base import BaseEstimator, TransformerMixin\n",
    "from sklearn.pipeline import make_pipeline, make_union\n",
    "from sklearn.model_selection import train_test_split\n",
    "from sklearn.decomposition import TruncatedSVD\n",
    "from sklearn.feature_extraction.text import TfidfVectorizer\n",
    "from sklearn.feature_extraction import DictVectorizer\n",
    "from sklearn.linear_model import SGDRegressor\n",
    "\n",
    "#this should be helpful\n",
    "import re\n",
    "from math import log\n",
    "\n",
    "#boosting\n",
    "#import xgboost as xgb\n",
    "import lightgbm as lgb"
   ]
  },
  {
   "cell_type": "code",
   "execution_count": 2,
   "metadata": {},
   "outputs": [
    {
     "name": "stdout",
     "output_type": "stream",
     "text": [
      "Reading the data (852885 rows). Columns: Index(['question_id', 'subreddit', 'question_utc', 'question_text',\n",
      "       'question_score', 'answer_utc', 'answer_text', 'answer_score'],\n",
      "      dtype='object')\n"
     ]
    }
   ],
   "source": [
    "#This idea comes from baseline kernel from the competition https://www.kaggle.com/piotrekga/baseline-solution-reddit\n",
    "#all credit to original creator\n",
    "\n",
    "def load_data(filename=\"../kaggledays/train.csv\"):\n",
    "    data = pd.read_csv(filename, sep=\"\\t\", index_col='id')\n",
    "    msg = \"Reading the data ({} rows). Columns: {}\"\n",
    "    print(msg.format(len(data), data.columns))\n",
    "    # Select the columns\n",
    "    #this time pretty much everything, except target *answer score) and id (which is rather useless)\n",
    "    X = data.loc[:, ['question_id', 'subreddit', 'question_utc', 'question_text',\n",
    "       'question_score', 'answer_utc', 'answer_text']]\n",
    "    \n",
    "    \n",
    "    try:\n",
    "        y = data.loc[:, \"answer_score\"]\n",
    "    except KeyError: # There are no answers in the test file\n",
    "        return X, None\n",
    "    return X, y\n",
    "\n",
    "X, y = load_data()\n",
    "#X_train, X_test, y_train, y_test = train_test_split(X, y)"
   ]
  },
  {
   "cell_type": "code",
   "execution_count": 3,
   "metadata": {},
   "outputs": [],
   "source": [
    "#our success metric\n",
    "def rmsle(y, y0):\n",
    "    assert len(y) == len(y0)\n",
    "    return np.sqrt(\n",
    "        np.mean((np.log1p(y) - np.log1p(y0)) ** 2)\n",
    "    )"
   ]
  },
  {
   "cell_type": "code",
   "execution_count": 4,
   "metadata": {},
   "outputs": [],
   "source": [
    "#some type conversion\n",
    "coltypes = {\"question_id\":\"str\", \n",
    "            \"subreddit\":\"str\", \n",
    "            \"question_utc\":\"datetime64[s]\",\n",
    "            \"question_text\": \"str\", \n",
    "            \"question_score\":\"int32\", #notice how large these values are\n",
    "            \"answer_utc\":\"datetime64[s]\",\n",
    "            \"answer_text\":\"str\", \n",
    "            \"answer_score\":\"int32\"} #check\n",
    "\n",
    "for col, coltype in coltypes.items():\n",
    "    if col in X.columns:\n",
    "        X[col] = X[col].astype(coltype)"
   ]
  },
  {
   "cell_type": "code",
   "execution_count": 5,
   "metadata": {},
   "outputs": [
    {
     "name": "stdout",
     "output_type": "stream",
     "text": [
      "<class 'pandas.core.frame.DataFrame'>\n",
      "Int64Index: 852885 entries, 330435 to 2646893\n",
      "Data columns (total 7 columns):\n",
      "question_id       852885 non-null object\n",
      "subreddit         852885 non-null object\n",
      "question_utc      852885 non-null datetime64[ns]\n",
      "question_text     852885 non-null object\n",
      "question_score    852885 non-null int32\n",
      "answer_utc        852885 non-null datetime64[ns]\n",
      "answer_text       852885 non-null object\n",
      "dtypes: datetime64[ns](2), int32(1), object(4)\n",
      "memory usage: 48.8+ MB\n"
     ]
    }
   ],
   "source": [
    "X.info()"
   ]
  },
  {
   "cell_type": "code",
   "execution_count": 6,
   "metadata": {},
   "outputs": [
    {
     "data": {
      "text/html": [
       "<div>\n",
       "<style scoped>\n",
       "    .dataframe tbody tr th:only-of-type {\n",
       "        vertical-align: middle;\n",
       "    }\n",
       "\n",
       "    .dataframe tbody tr th {\n",
       "        vertical-align: top;\n",
       "    }\n",
       "\n",
       "    .dataframe thead th {\n",
       "        text-align: right;\n",
       "    }\n",
       "</style>\n",
       "<table border=\"1\" class=\"dataframe\">\n",
       "  <thead>\n",
       "    <tr style=\"text-align: right;\">\n",
       "      <th></th>\n",
       "      <th>question_id</th>\n",
       "      <th>subreddit</th>\n",
       "      <th>question_utc</th>\n",
       "      <th>question_text</th>\n",
       "      <th>question_score</th>\n",
       "      <th>answer_utc</th>\n",
       "      <th>answer_text</th>\n",
       "    </tr>\n",
       "    <tr>\n",
       "      <th>id</th>\n",
       "      <th></th>\n",
       "      <th></th>\n",
       "      <th></th>\n",
       "      <th></th>\n",
       "      <th></th>\n",
       "      <th></th>\n",
       "      <th></th>\n",
       "    </tr>\n",
       "  </thead>\n",
       "  <tbody>\n",
       "    <tr>\n",
       "      <th>330435</th>\n",
       "      <td>f48a5420fa6a66ecec95365dd67bdc99</td>\n",
       "      <td>AskReddit</td>\n",
       "      <td>2017-12-01</td>\n",
       "      <td>All my buddies love Pacific Rim and always tal...</td>\n",
       "      <td>179</td>\n",
       "      <td>2017-12-01 00:03:36</td>\n",
       "      <td>I didn't really care for it, I thought the pac...</td>\n",
       "    </tr>\n",
       "    <tr>\n",
       "      <th>1944975</th>\n",
       "      <td>f48a5420fa6a66ecec95365dd67bdc99</td>\n",
       "      <td>AskReddit</td>\n",
       "      <td>2017-12-01</td>\n",
       "      <td>All my buddies love Pacific Rim and always tal...</td>\n",
       "      <td>179</td>\n",
       "      <td>2017-12-01 01:11:34</td>\n",
       "      <td>I thought it was hilarious, and I didn't reali...</td>\n",
       "    </tr>\n",
       "    <tr>\n",
       "      <th>2218735</th>\n",
       "      <td>f48a5420fa6a66ecec95365dd67bdc99</td>\n",
       "      <td>AskReddit</td>\n",
       "      <td>2017-12-01</td>\n",
       "      <td>All my buddies love Pacific Rim and always tal...</td>\n",
       "      <td>179</td>\n",
       "      <td>2017-12-01 01:12:43</td>\n",
       "      <td>&amp;gt; Pacific Rim  The porno, or the studio rel...</td>\n",
       "    </tr>\n",
       "    <tr>\n",
       "      <th>2133251</th>\n",
       "      <td>f48a5420fa6a66ecec95365dd67bdc99</td>\n",
       "      <td>AskReddit</td>\n",
       "      <td>2017-12-01</td>\n",
       "      <td>All my buddies love Pacific Rim and always tal...</td>\n",
       "      <td>179</td>\n",
       "      <td>2017-12-01 01:22:29</td>\n",
       "      <td>I enjoyed it more than most movies of that gen...</td>\n",
       "    </tr>\n",
       "    <tr>\n",
       "      <th>2133252</th>\n",
       "      <td>f48a5420fa6a66ecec95365dd67bdc99</td>\n",
       "      <td>AskReddit</td>\n",
       "      <td>2017-12-01</td>\n",
       "      <td>All my buddies love Pacific Rim and always tal...</td>\n",
       "      <td>179</td>\n",
       "      <td>2017-12-01 12:56:52</td>\n",
       "      <td>Its terrible, its clearly made to be a self aw...</td>\n",
       "    </tr>\n",
       "  </tbody>\n",
       "</table>\n",
       "</div>"
      ],
      "text/plain": [
       "                              question_id  subreddit question_utc  \\\n",
       "id                                                                  \n",
       "330435   f48a5420fa6a66ecec95365dd67bdc99  AskReddit   2017-12-01   \n",
       "1944975  f48a5420fa6a66ecec95365dd67bdc99  AskReddit   2017-12-01   \n",
       "2218735  f48a5420fa6a66ecec95365dd67bdc99  AskReddit   2017-12-01   \n",
       "2133251  f48a5420fa6a66ecec95365dd67bdc99  AskReddit   2017-12-01   \n",
       "2133252  f48a5420fa6a66ecec95365dd67bdc99  AskReddit   2017-12-01   \n",
       "\n",
       "                                             question_text  question_score  \\\n",
       "id                                                                           \n",
       "330435   All my buddies love Pacific Rim and always tal...             179   \n",
       "1944975  All my buddies love Pacific Rim and always tal...             179   \n",
       "2218735  All my buddies love Pacific Rim and always tal...             179   \n",
       "2133251  All my buddies love Pacific Rim and always tal...             179   \n",
       "2133252  All my buddies love Pacific Rim and always tal...             179   \n",
       "\n",
       "                 answer_utc                                        answer_text  \n",
       "id                                                                              \n",
       "330435  2017-12-01 00:03:36  I didn't really care for it, I thought the pac...  \n",
       "1944975 2017-12-01 01:11:34  I thought it was hilarious, and I didn't reali...  \n",
       "2218735 2017-12-01 01:12:43  &gt; Pacific Rim  The porno, or the studio rel...  \n",
       "2133251 2017-12-01 01:22:29  I enjoyed it more than most movies of that gen...  \n",
       "2133252 2017-12-01 12:56:52  Its terrible, its clearly made to be a self aw...  "
      ]
     },
     "execution_count": 6,
     "metadata": {},
     "output_type": "execute_result"
    }
   ],
   "source": [
    "X.head()"
   ]
  },
  {
   "cell_type": "code",
   "execution_count": 7,
   "metadata": {},
   "outputs": [],
   "source": [
    "#X.describe()"
   ]
  },
  {
   "cell_type": "markdown",
   "metadata": {},
   "source": []
  },
  {
   "cell_type": "markdown",
   "metadata": {},
   "source": [
    "## EDA/ Data Exploration\n",
    "\n",
    "We already did this, so I'll skip this part right now - for more detailed EDA check my other notebook"
   ]
  },
  {
   "cell_type": "markdown",
   "metadata": {},
   "source": [
    "## Let's go!"
   ]
  },
  {
   "cell_type": "code",
   "execution_count": 8,
   "metadata": {},
   "outputs": [],
   "source": [
    "#this function incorporates basically all my feature ideas\n",
    "def engineer_features(df):\n",
    "    \n",
    "    #text-related features\n",
    "    df['uppercase_count_q'] = df['question_text'].str.findall(r'[A-Z]').str.len()\n",
    "    df['uppercase_count_a'] = df['answer_text'].str.findall(r'[A-Z]').str.len()\n",
    "\n",
    "    df[\"answer_count\"] = df.groupby(['question_id'])['answer_text'].transform('count')\n",
    "    df[\"answer_lowcount\"] = (df[\"answer_count\"] < 200) * 1\n",
    "\n",
    "    url_regex = 'https?://(?:[-\\w.]|(?:%[\\da-fA-F]{2}))+'\n",
    "    img_regex = 'https?:[^)''\"]+\\.(?:jpg|jpeg|gif|png)'\n",
    "\n",
    "    df['answer_links'] = df['answer_text'].apply(lambda x: len(re.findall(url_regex, x)))\n",
    "    df['answer_imgs'] = df['answer_text'].apply(lambda x: len(re.findall(img_regex, x)))\n",
    "    #df['answer_imgs'] = df.answer_imgs.apply(lambda x: 6 if x > 6 else x)\n",
    "    #df['answer_links'] = df.answer_links.apply(lambda x: 10 if x > 10 else x)\n",
    "\n",
    "    df['answer_length'] = df['answer_text'].apply(lambda x: len(x))\n",
    "    df['answer_is_long'] = (df['answer_length'] < 1500) * 1 #this will keep dtype numeric\n",
    "    df['answer_sents'] = df['answer_text'].apply(lambda x: len(re.findall(r'.*[.!?]', x))) #not 100% accurate but should do the job\n",
    "    \n",
    "    #time-related features\n",
    "    df[\"answer_delay\"] = (df.answer_utc - df.question_utc).dt.total_seconds().apply(lambda x: log(x+1))\n",
    "    df[\"answer_day_of_week\"] = df[\"answer_utc\"].dt.dayofweek\n",
    "    df[\"answer_hour\"] = df[\"answer_utc\"].dt.hour\n",
    "    df[\"answer_time_of_day\"] = df[\"answer_utc\"].dt.hour*24  + df[\"answer_utc\"].dt.minute\n",
    "    df[\"answer_holidays\"] = (df[\"answer_utc\"] >= '2017-12-24') * 1\n",
    "    df[\"time_trend\"] = (df[\"answer_utc\"] - df[\"answer_utc\"].min()).dt.total_seconds()/3600\n",
    "    df[\"trend_low\"] = (df[\"time_trend\"] < 175) * 1\n",
    "    \n",
    "    #numeric features\n",
    "    df['q_score_subreddit_median'] = df.groupby(['subreddit'])['question_score'].transform('median')\n",
    "    df['q_score_subreddit_mean'] = df.groupby(['subreddit'])['question_score'].transform('mean')\n",
    "    \n",
    "    return df.copy()"
   ]
  },
  {
   "cell_type": "code",
   "execution_count": 9,
   "metadata": {},
   "outputs": [],
   "source": [
    "X_all = engineer_features(X)"
   ]
  },
  {
   "cell_type": "code",
   "execution_count": 10,
   "metadata": {},
   "outputs": [],
   "source": [
    "class FeatureSelector(BaseEstimator, TransformerMixin):\n",
    "    def __init__(self, columns, orient=None):\n",
    "        super(FeatureSelector, self).__init__()\n",
    "        self.columns = columns\n",
    "\n",
    "    def fit(self, X, *args, **kwargs):\n",
    "        return self\n",
    "\n",
    "    def transform(self, data, *args, **kwargs):\n",
    "        return data[self.columns].values"
   ]
  },
  {
   "cell_type": "code",
   "execution_count": 11,
   "metadata": {},
   "outputs": [
    {
     "name": "stdout",
     "output_type": "stream",
     "text": [
      "<class 'pandas.core.frame.DataFrame'>\n",
      "Int64Index: 852885 entries, 330435 to 2646893\n",
      "Data columns (total 25 columns):\n",
      "question_id                 852885 non-null object\n",
      "subreddit                   852885 non-null object\n",
      "question_utc                852885 non-null datetime64[ns]\n",
      "question_text               852885 non-null object\n",
      "question_score              852885 non-null int32\n",
      "answer_utc                  852885 non-null datetime64[ns]\n",
      "answer_text                 852885 non-null object\n",
      "uppercase_count_q           852885 non-null int64\n",
      "uppercase_count_a           852885 non-null int64\n",
      "answer_count                852885 non-null int64\n",
      "answer_lowcount             852885 non-null int64\n",
      "answer_links                852885 non-null int64\n",
      "answer_imgs                 852885 non-null int64\n",
      "answer_length               852885 non-null int64\n",
      "answer_is_long              852885 non-null int64\n",
      "answer_sents                852885 non-null int64\n",
      "answer_delay                852885 non-null float64\n",
      "answer_day_of_week          852885 non-null int64\n",
      "answer_hour                 852885 non-null int64\n",
      "answer_time_of_day          852885 non-null int64\n",
      "answer_holidays             852885 non-null int64\n",
      "time_trend                  852885 non-null float64\n",
      "trend_low                   852885 non-null int64\n",
      "q_score_subreddit_median    852885 non-null int32\n",
      "q_score_subreddit_mean      852885 non-null float64\n",
      "dtypes: datetime64[ns](2), float64(3), int32(2), int64(14), object(4)\n",
      "memory usage: 162.7+ MB\n"
     ]
    }
   ],
   "source": [
    "X_all.info()"
   ]
  },
  {
   "cell_type": "code",
   "execution_count": 12,
   "metadata": {},
   "outputs": [],
   "source": [
    "X_train, X_test, y_train, y_test = train_test_split(X_all, y)"
   ]
  },
  {
   "cell_type": "code",
   "execution_count": 13,
   "metadata": {},
   "outputs": [],
   "source": [
    "excluded_cols = {'answer_text', 'answer_utc','question_id', 'question_text', 'question_utc', 'subreddit'}\n",
    "use_cols  = list(set(X_train.columns) - excluded_cols)"
   ]
  },
  {
   "cell_type": "code",
   "execution_count": 14,
   "metadata": {},
   "outputs": [],
   "source": [
    "def build_model():\n",
    "    process_data = make_union(\n",
    "        make_pipeline(\n",
    "            FeatureSelector(use_cols),\n",
    "        ),\n",
    "        make_pipeline(\n",
    "            FeatureSelector(\"subreddit\"),\n",
    "            TfidfVectorizer(min_df=2, token_pattern=\"\\w+\"),\n",
    "        ),\n",
    "        make_pipeline(\n",
    "            FeatureSelector(\"question_text\"),\n",
    "            TfidfVectorizer(min_df=2, token_pattern=\"\\w+\"),\n",
    "        ),\n",
    "        make_pipeline(\n",
    "            FeatureSelector(\"answer_text\"),\n",
    "            TfidfVectorizer(min_df=2, token_pattern=\"\\w+\"),\n",
    "        ),\n",
    "    )\n",
    "\n",
    "    model = make_pipeline(\n",
    "         process_data,\n",
    "         lgb.LGBMRegressor(),\n",
    "    )\n",
    "    return model"
   ]
  },
  {
   "cell_type": "code",
   "execution_count": 15,
   "metadata": {},
   "outputs": [
    {
     "name": "stdout",
     "output_type": "stream",
     "text": [
      "\n",
      "Training set\n",
      "RMSLE:    0.7558424387757934\n",
      "Test set\n",
      "RMSLE:    0.7648141548270421\n",
      "CPU times: user 11min 32s, sys: 6.86 s, total: 11min 39s\n",
      "Wall time: 3min 23s\n"
     ]
    }
   ],
   "source": [
    "%%time\n",
    "model = build_model()\n",
    "model.fit(X_train, np.log1p(y_train))\n",
    "\n",
    "y_train_theor = np.expm1(model.predict(X_train))\n",
    "y_test_theor = np.expm1(model.predict(X_test))\n",
    "print()\n",
    "print(\"Training set\")\n",
    "print(\"RMSLE:   \", rmsle(y_train, y_train_theor))\n",
    "\n",
    "print(\"Test set\")\n",
    "print(\"RMSLE:   \", rmsle(y_test, y_test_theor))"
   ]
  },
  {
   "cell_type": "code",
   "execution_count": 18,
   "metadata": {},
   "outputs": [
    {
     "name": "stdout",
     "output_type": "stream",
     "text": [
      "Reading the data (663082 rows). Columns: Index(['question_id', 'subreddit', 'question_utc', 'question_text',\n",
      "       'question_score', 'answer_utc', 'answer_text'],\n",
      "      dtype='object')\n"
     ]
    }
   ],
   "source": [
    "X_val, _ = load_data('../kaggledays/test.csv')\n",
    "\n",
    "coltypes = {\"question_id\":\"str\", \n",
    "            \"subreddit\":\"str\", \n",
    "            \"question_utc\":\"datetime64[s]\",\n",
    "            \"question_text\": \"str\", \n",
    "            \"question_score\":\"int32\", #notice how large these values are\n",
    "            \"answer_utc\":\"datetime64[s]\",\n",
    "            \"answer_text\":\"str\", \n",
    "            \"answer_score\":\"int32\"} #check\n",
    "\n",
    "for col, coltype in coltypes.items():\n",
    "    if col in X_val.columns:\n",
    "        X_val[col] = X_val[col].astype(coltype)\n",
    "\n",
    "X_val = engineer_features(X_val)\n",
    "solution = pd.DataFrame(index=X_val.index)\n",
    "solution['answer_score'] = np.expm1(model.predict(X_val))\n",
    "solution.to_csv('submission.csv')"
   ]
  },
  {
   "cell_type": "markdown",
   "metadata": {},
   "source": [
    "### Some Kaggle magic...\n",
    "\n",
    "During the competition, there was some kind of data leak. The data (some of scores we were trying to predict) was made available to everyone, so we can improve our submission by simple substitution."
   ]
  },
  {
   "cell_type": "code",
   "execution_count": 63,
   "metadata": {},
   "outputs": [],
   "source": [
    "leaks = pd.read_csv(\"leaked_records.csv\",  index_col='id').rename(columns={\"answer_score\": \"leak\"})"
   ]
  },
  {
   "cell_type": "code",
   "execution_count": 44,
   "metadata": {},
   "outputs": [
    {
     "data": {
      "text/html": [
       "<div>\n",
       "<style scoped>\n",
       "    .dataframe tbody tr th:only-of-type {\n",
       "        vertical-align: middle;\n",
       "    }\n",
       "\n",
       "    .dataframe tbody tr th {\n",
       "        vertical-align: top;\n",
       "    }\n",
       "\n",
       "    .dataframe thead th {\n",
       "        text-align: right;\n",
       "    }\n",
       "</style>\n",
       "<table border=\"1\" class=\"dataframe\">\n",
       "  <thead>\n",
       "    <tr style=\"text-align: right;\">\n",
       "      <th></th>\n",
       "      <th>leak</th>\n",
       "    </tr>\n",
       "    <tr>\n",
       "      <th>id</th>\n",
       "      <th></th>\n",
       "    </tr>\n",
       "  </thead>\n",
       "  <tbody>\n",
       "    <tr>\n",
       "      <th>999144</th>\n",
       "      <td>1</td>\n",
       "    </tr>\n",
       "    <tr>\n",
       "      <th>4126545</th>\n",
       "      <td>1</td>\n",
       "    </tr>\n",
       "    <tr>\n",
       "      <th>3143820</th>\n",
       "      <td>3</td>\n",
       "    </tr>\n",
       "    <tr>\n",
       "      <th>6738768</th>\n",
       "      <td>5</td>\n",
       "    </tr>\n",
       "    <tr>\n",
       "      <th>1744091</th>\n",
       "      <td>4</td>\n",
       "    </tr>\n",
       "  </tbody>\n",
       "</table>\n",
       "</div>"
      ],
      "text/plain": [
       "         leak\n",
       "id           \n",
       "999144      1\n",
       "4126545     1\n",
       "3143820     3\n",
       "6738768     5\n",
       "1744091     4"
      ]
     },
     "execution_count": 44,
     "metadata": {},
     "output_type": "execute_result"
    }
   ],
   "source": [
    "leaks.head()"
   ]
  },
  {
   "cell_type": "code",
   "execution_count": 57,
   "metadata": {},
   "outputs": [],
   "source": [
    "sub = solution.copy() # just in case - this will be our improved submission with 'leaks'"
   ]
  },
  {
   "cell_type": "code",
   "execution_count": 58,
   "metadata": {},
   "outputs": [],
   "source": [
    "#so called \"magic coefficient\", already used in e.g. toxic comment classification challenge - sigificantly improves score\n",
    "sub.answer_score = sub.answer_score * 0.8 "
   ]
  },
  {
   "cell_type": "code",
   "execution_count": 59,
   "metadata": {},
   "outputs": [],
   "source": [
    "#subsitute\n",
    "sub.loc[leaks.index,'answer_score'] = leaks.leak"
   ]
  },
  {
   "cell_type": "code",
   "execution_count": 61,
   "metadata": {},
   "outputs": [
    {
     "name": "stdout",
     "output_type": "stream",
     "text": [
      "<class 'pandas.core.frame.DataFrame'>\n",
      "Int64Index: 663082 entries, 273508 to 5814748\n",
      "Data columns (total 1 columns):\n",
      "answer_score    663082 non-null float64\n",
      "dtypes: float64(1)\n",
      "memory usage: 30.1 MB\n"
     ]
    }
   ],
   "source": [
    "#check\n",
    "sub.info()"
   ]
  },
  {
   "cell_type": "code",
   "execution_count": 62,
   "metadata": {},
   "outputs": [],
   "source": [
    "sub.to_csv('sub.csv')"
   ]
  },
  {
   "cell_type": "markdown",
   "metadata": {},
   "source": [
    "### Leaderboard\n",
    "\n",
    "Of course competition already ended, but we can still make late submission to check how good would our prediction be if submitted on time."
   ]
  },
  {
   "cell_type": "code",
   "execution_count": 66,
   "metadata": {},
   "outputs": [],
   "source": [
    "from IPython.display import Image"
   ]
  },
  {
   "cell_type": "code",
   "execution_count": 67,
   "metadata": {},
   "outputs": [
    {
     "data": {
      "image/png": "[encoded data removed]",
      "text/plain": [
       "<IPython.core.display.Image object>"
      ]
     },
     "execution_count": 67,
     "metadata": {},
     "output_type": "execute_result"
    }
   ],
   "source": [
    "Image(\"../kaggledays/ldbrd.png\")"
   ]
  },
  {
   "cell_type": "markdown",
   "metadata": {},
   "source": [
    "Wow! It seems that with these improvements we would move from 12th to 3rd place. Really good, although 12 place reached in a fair competition against Kaggle Masters is also decent result. "
   ]
  },
  {
   "cell_type": "markdown",
   "metadata": {},
   "source": [
    "### To do/ next improvements:\n",
    "1. Some hyperparameter tunning (i used default ones)\n",
    "2. New features\n",
    "3. Feature importnace/selection\n",
    "4. Different algorithms\n",
    "5. Blending/stacking\n",
    "6. Remove some outliers from training set"
   ]
  },
  {
   "cell_type": "code",
   "execution_count": null,
   "metadata": {},
   "outputs": [],
   "source": []
  }
 ],
 "metadata": {
  "kernelspec": {
   "display_name": "Python 3",
   "language": "python",
   "name": "python3"
  },
  "language_info": {
   "codemirror_mode": {
    "name": "ipython",
    "version": 3
   },
   "file_extension": ".py",
   "mimetype": "text/x-python",
   "name": "python",
   "nbconvert_exporter": "python",
   "pygments_lexer": "ipython3",
   "version": "3.6.5"
  }
 },
 "nbformat": 4,
 "nbformat_minor": 2
}
