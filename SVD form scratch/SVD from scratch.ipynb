{
 "cells": [
  {
   "cell_type": "markdown",
   "metadata": {},
   "source": [
    "# SVD from scratch\n",
    "\n",
    "I have once read that typical mistake of aspiring/wannabe/beginner data scientists is trying to \"reinvent the wheel\", that is, trying to write their own implementations of algorithms, which already have good, realiable, fast and tested versions in popular libraries. This is exactly the case with alorithm I am wrestling with in this notebook - Singular Value Decomposition. So why am I doing this \"mistake\"? Nonetheless, writig alogirthm line after line is:\n",
    "\n",
    "1. Good way of showing that you actually get it right (or that ypu understand all the \"magic\" that is happening when you use scikit-learn). This is especially important when you're slef-taught (like me).\n",
    "2. Way to challenge yourself and improve your math (linear algebra in this case) skills "
   ]
  },
  {
   "cell_type": "markdown",
   "metadata": {},
   "source": [
    "# So what is 'SVD'?\n",
    "\n",
    "There are many good explanations in classical linear algebra textbooks and in the web. I am a huge fan of Gilbert Strang's book and his OCW classes, but when it comes to SVD, here is my favourite explanation:"
   ]
  },
  {
   "cell_type": "code",
   "execution_count": 209,
   "metadata": {
    "scrolled": true
   },
   "outputs": [
    {
     "data": {
      "image/jpeg": "[encoded data removed]",
      "text/html": [
       "\n",
       "        <iframe\n",
       "            width=\"975\"\n",
       "            height=\"450\"\n",
       "            src=\"https://www.youtube.com/embed/P5mlg91as1c\"\n",
       "            frameborder=\"0\"\n",
       "            allowfullscreen\n",
       "        ></iframe>\n",
       "        "
      ],
      "text/plain": [
       "<IPython.lib.display.YouTubeVideo at 0x7f02e63315c0>"
      ]
     },
     "execution_count": 209,
     "metadata": {},
     "output_type": "execute_result"
    }
   ],
   "source": [
    "from IPython.lib.display import YouTubeVideo\n",
    "YouTubeVideo('P5mlg91as1c',  width=975, height=450)"
   ]
  },
  {
   "cell_type": "markdown",
   "metadata": {},
   "source": [
    "# Basic Example"
   ]
  },
  {
   "cell_type": "code",
   "execution_count": 210,
   "metadata": {},
   "outputs": [],
   "source": [
    "import numpy as np\n",
    "from sympy import Matrix"
   ]
  },
  {
   "cell_type": "code",
   "execution_count": 211,
   "metadata": {},
   "outputs": [],
   "source": [
    "A = np.array([[5, 5],[-1, 7]])"
   ]
  },
  {
   "cell_type": "code",
   "execution_count": 212,
   "metadata": {
    "scrolled": true
   },
   "outputs": [
    {
     "data": {
      "text/plain": [
       "array([[ 5,  5],\n",
       "       [-1,  7]])"
      ]
     },
     "execution_count": 212,
     "metadata": {},
     "output_type": "execute_result"
    }
   ],
   "source": [
    "A #that's our dummy, simple matrix we'll use to try our solution"
   ]
  },
  {
   "cell_type": "markdown",
   "metadata": {},
   "source": [
    "If you watched carefully video above, you know that our goal is to decompose our initial matrix A into three new ones: \n",
    "1. Orthogonal and long matrix U\n",
    "2. Diagonal matrix Sigma with non-negative entries / singular values\n",
    "3. Orthogonal and wide matrix V-transposed\n",
    "\n",
    "# $$A=U \\Sigma V^T$$"
   ]
  },
  {
   "cell_type": "markdown",
   "metadata": {},
   "source": [
    "To reach our goal, we actually have to solve two equations:\n",
    "### $$A^TA = V \\Sigma^T\\Sigma V^T$$ \n",
    "### $$AV = U\\Sigma$$"
   ]
  },
  {
   "cell_type": "code",
   "execution_count": 213,
   "metadata": {},
   "outputs": [
    {
     "data": {
      "text/plain": [
       "array([[26, 18],\n",
       "       [18, 74]])"
      ]
     },
     "execution_count": 213,
     "metadata": {},
     "output_type": "execute_result"
    }
   ],
   "source": [
    "#Compute A-transpose A - right hand side of our first eqaution\n",
    "\n",
    "A.T @ A"
   ]
  },
  {
   "cell_type": "code",
   "execution_count": 214,
   "metadata": {},
   "outputs": [
    {
     "data": {
      "text/plain": [
       "array([20., 80.])"
      ]
     },
     "execution_count": 214,
     "metadata": {},
     "output_type": "execute_result"
    }
   ],
   "source": [
    "#find eigenvaules\n",
    "np.linalg.eigvals(A.T @ A)"
   ]
  },
  {
   "cell_type": "code",
   "execution_count": 215,
   "metadata": {},
   "outputs": [
    {
     "data": {
      "text/plain": [
       "array([[ 6., 18.],\n",
       "       [18., 54.]])"
      ]
     },
     "execution_count": 215,
     "metadata": {},
     "output_type": "execute_result"
    }
   ],
   "source": [
    "#find eigenvectors\n",
    "A.T@A - 20*np.identity(2)"
   ]
  },
  {
   "cell_type": "code",
   "execution_count": 216,
   "metadata": {},
   "outputs": [],
   "source": [
    "#find a vector in nullspace of matrix above and normalize it"
   ]
  },
  {
   "cell_type": "code",
   "execution_count": 217,
   "metadata": {},
   "outputs": [
    {
     "data": {
      "text/plain": [
       "array([[-0.9486833 ,  0.31622777]])"
      ]
     },
     "execution_count": 217,
     "metadata": {},
     "output_type": "execute_result"
    }
   ],
   "source": [
    "V1 = np.array((Matrix(A.T@A - 20*np.identity(2))).nullspace()/np.sqrt(10))\n",
    "V1 = np.vstack(V1[:, :]).astype(np.float)\n",
    "V1"
   ]
  },
  {
   "cell_type": "code",
   "execution_count": 218,
   "metadata": {},
   "outputs": [
    {
     "data": {
      "text/plain": [
       "array([[-54.,  18.],\n",
       "       [ 18.,  -6.]])"
      ]
     },
     "execution_count": 218,
     "metadata": {},
     "output_type": "execute_result"
    }
   ],
   "source": [
    "A.T@A - 80*np.identity(2)"
   ]
  },
  {
   "cell_type": "code",
   "execution_count": 219,
   "metadata": {},
   "outputs": [
    {
     "data": {
      "text/plain": [
       "array([[0.31622808, 0.94868425]])"
      ]
     },
     "execution_count": 219,
     "metadata": {},
     "output_type": "execute_result"
    }
   ],
   "source": [
    "#looks kinda normalized?\n",
    "V2 = (Matrix(A.T@A - 80*np.identity(2))).nullspace()/np.sqrt(0.33333**2 + 1**2)\n",
    "V2 = np.vstack(V2[:, :]).astype(np.float)\n",
    "V2"
   ]
  },
  {
   "cell_type": "code",
   "execution_count": 220,
   "metadata": {},
   "outputs": [
    {
     "data": {
      "text/plain": [
       "array([[-0.9486833 ,  0.31622808],\n",
       "       [ 0.31622777,  0.94868425]])"
      ]
     },
     "execution_count": 220,
     "metadata": {},
     "output_type": "execute_result"
    }
   ],
   "source": [
    "V = np.column_stack((V1.T, V2.T))\n",
    "V"
   ]
  },
  {
   "cell_type": "code",
   "execution_count": 221,
   "metadata": {},
   "outputs": [],
   "source": [
    "#sigma"
   ]
  },
  {
   "cell_type": "code",
   "execution_count": 222,
   "metadata": {},
   "outputs": [
    {
     "data": {
      "text/plain": [
       "array([[4.47213595, 0.        ],\n",
       "       [0.        , 8.94427191]])"
      ]
     },
     "execution_count": 222,
     "metadata": {},
     "output_type": "execute_result"
    }
   ],
   "source": [
    "Sigma = np.sqrt(np.diag(np.linalg.eigvals(A.T @ A)))\n",
    "Sigma"
   ]
  },
  {
   "cell_type": "code",
   "execution_count": 223,
   "metadata": {},
   "outputs": [],
   "source": [
    "#A multiplied by V = U Sigma\n",
    "U = A @ V / np.array([2*np.sqrt(5), 4*np.sqrt(5)])"
   ]
  },
  {
   "cell_type": "code",
   "execution_count": 228,
   "metadata": {},
   "outputs": [
    {
     "data": {
      "text/plain": [
       "array([[-0.70710678,  0.70710749],\n",
       "       [ 0.70710678,  0.70710749]])"
      ]
     },
     "execution_count": 228,
     "metadata": {},
     "output_type": "execute_result"
    }
   ],
   "source": [
    "U"
   ]
  },
  {
   "cell_type": "code",
   "execution_count": null,
   "metadata": {},
   "outputs": [],
   "source": [
    "# Got it, but we can make a sanity check"
   ]
  },
  {
   "cell_type": "code",
   "execution_count": 226,
   "metadata": {},
   "outputs": [
    {
     "data": {
      "text/plain": [
       "(array([[ 0.70710678,  0.70710678],\n",
       "        [ 0.70710678, -0.70710678]]),\n",
       " array([8.94427191, 4.47213595]),\n",
       " array([[ 0.31622777,  0.9486833 ],\n",
       "        [ 0.9486833 , -0.31622777]]))"
      ]
     },
     "execution_count": 226,
     "metadata": {},
     "output_type": "execute_result"
    }
   ],
   "source": [
    "np.linalg.svd(A) #looks kinda ok, differences of rows/signs come from order of eigenvectors!"
   ]
  },
  {
   "cell_type": "code",
   "execution_count": null,
   "metadata": {},
   "outputs": [],
   "source": []
  },
  {
   "cell_type": "markdown",
   "metadata": {},
   "source": [
    "### To do:\n",
    "1. Reduce the 'explanatory' part\n",
    "2. Pack it into a function\n",
    "3. Experiment!\n",
    "4. Try to code more advanced alorithms based on SVD."
   ]
  },
  {
   "cell_type": "code",
   "execution_count": null,
   "metadata": {},
   "outputs": [],
   "source": []
  }
 ],
 "metadata": {
  "kernelspec": {
   "display_name": "Python 3",
   "language": "python",
   "name": "python3"
  },
  "language_info": {
   "codemirror_mode": {
    "name": "ipython",
    "version": 3
   },
   "file_extension": ".py",
   "mimetype": "text/x-python",
   "name": "python",
   "nbconvert_exporter": "python",
   "pygments_lexer": "ipython3",
   "version": "3.6.4"
  }
 },
 "nbformat": 4,
 "nbformat_minor": 2
}
