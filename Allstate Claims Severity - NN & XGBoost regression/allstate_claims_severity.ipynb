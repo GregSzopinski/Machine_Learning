{
  "nbformat": 4,
  "nbformat_minor": 0,
  "metadata": {
    "colab": {
      "name": "allstate-claims-severity.ipynb",
      "version": "0.3.2",
      "views": {},
      "default_view": {},
      "provenance": [],
      "collapsed_sections": []
    },
    "kernelspec": {
      "display_name": "Python 3",
      "language": "python",
      "name": "python3"
    }
  },
  "cells": [
    {
      "metadata": {
        "id": "y2JRCoEZ1n4W",
        "colab_type": "text"
      },
      "cell_type": "markdown",
      "source": [
        "## Allstate Claims Severity\n",
        "[Kaggle](https://www.kaggle.com/c/allstate-claims-severity)  \n",
        "\n",
        "One of my first attempts with neural networks - I'll use popular kaggle dataset and try to predict claims severity. There are strong \"business reasons\" to do such taks with help machine/deep learning. After all, when an accidents happens, the vicitms, their families and insurance comapnies have plenty of things to do. So doing some tasks without human involvement can actually be beneficial in this hard moments for all of them.\n",
        "\n",
        "I will try to predict claims severity with MLP and XGBoost regressor, and finally - combine the results\n",
        "\n",
        "This small project was part of my course work during [DataWorkshop](http://www.dataworkshop.eu/), so big thanks to Vladimir for all your help & advice "
      ]
    },
    {
      "metadata": {
        "id": "nAot4AdF1n4b",
        "colab_type": "code",
        "colab": {
          "autoexec": {
            "startup": false,
            "wait_interval": 0
          },
          "output_extras": [
            {}
          ]
        },
        "outputId": "c19f3ae2-534a-4748-fe6a-8be2662537aa"
      },
      "cell_type": "code",
      "source": [
        "import pandas as pd\n",
        "import numpy as np\n",
        "np.random.seed(2017)\n",
        "\n",
        "from scipy.sparse import csr_matrix, hstack\n",
        "from sklearn.preprocessing import StandardScaler\n",
        "\n",
        "from sklearn.dummy import DummyRegressor\n",
        "from sklearn.metrics import mean_absolute_error, make_scorer\n",
        "\n",
        "from sklearn.model_selection import KFold, train_test_split, learning_curve, ShuffleSplit\n",
        "\n",
        "from sklearn.pipeline import Pipeline\n",
        "from sklearn.feature_selection import SelectKBest, f_classif\n",
        "\n",
        "from xgboost import XGBRegressor\n",
        "\n",
        "from keras.models import Sequential\n",
        "from keras.layers.core import Dense, Dropout, Activation\n",
        "from keras.layers.normalization import BatchNormalization\n",
        "from keras.layers.advanced_activations import PReLU\n",
        "from keras.callbacks import EarlyStopping\n",
        "\n",
        "\n",
        "import matplotlib.pyplot as plt\n",
        "%matplotlib inline\n",
        "\n",
        "from functools import partial"
      ],
      "execution_count": 0,
      "outputs": [
        {
          "output_type": "stream",
          "text": [
            "Using TensorFlow backend.\n"
          ],
          "name": "stderr"
        }
      ]
    },
    {
      "metadata": {
        "id": "UBOybbwp1n4u",
        "colab_type": "text"
      },
      "cell_type": "markdown",
      "source": [
        "Sidenote: before loading the data, types have been optimized to use less space (even 7 times in this case, simply by changing float64 to float16, wherever I can)"
      ]
    },
    {
      "metadata": {
        "id": "pp5lXX_X1n4w",
        "colab_type": "text"
      },
      "cell_type": "markdown",
      "source": [
        "## Load data"
      ]
    },
    {
      "metadata": {
        "id": "04SiAqWM1n40",
        "colab_type": "code",
        "colab": {
          "autoexec": {
            "startup": false,
            "wait_interval": 0
          }
        }
      },
      "cell_type": "code",
      "source": [
        "train = pd.read_hdf('../input/train.allstate.h5')"
      ],
      "execution_count": 0,
      "outputs": []
    },
    {
      "metadata": {
        "id": "840mQsss1n49",
        "colab_type": "code",
        "colab": {
          "autoexec": {
            "startup": false,
            "wait_interval": 0
          },
          "output_extras": [
            {}
          ]
        },
        "outputId": "63bcc6d0-84d5-4e96-d28e-10896ca70d1c"
      },
      "cell_type": "code",
      "source": [
        "train.info()"
      ],
      "execution_count": 0,
      "outputs": [
        {
          "output_type": "stream",
          "text": [
            "<class 'pandas.core.frame.DataFrame'>\n",
            "Int64Index: 188318 entries, 0 to 188317\n",
            "Columns: 132 entries, id to loss\n",
            "dtypes: float16(14), float64(1), int16(2), int32(1), int8(114)\n",
            "memory usage: 29.8 MB\n"
          ],
          "name": "stdout"
        }
      ]
    },
    {
      "metadata": {
        "id": "2l37OAWz1n5G",
        "colab_type": "text"
      },
      "cell_type": "markdown",
      "source": [
        "## Are there any missing values?"
      ]
    },
    {
      "metadata": {
        "id": "evOwF-oo1n5I",
        "colab_type": "code",
        "colab": {
          "autoexec": {
            "startup": false,
            "wait_interval": 0
          },
          "output_extras": [
            {}
          ]
        },
        "outputId": "24d317b7-8b82-4ccd-b209-53c1dc53357c"
      },
      "cell_type": "code",
      "source": [
        "train.isnull().any().any() #typical for kaggle datasets"
      ],
      "execution_count": 0,
      "outputs": [
        {
          "output_type": "execute_result",
          "data": {
            "text/plain": [
              "False"
            ]
          },
          "metadata": {
            "tags": []
          },
          "execution_count": 4
        }
      ]
    },
    {
      "metadata": {
        "id": "YWVGwQQ_1n5R",
        "colab_type": "text"
      },
      "cell_type": "markdown",
      "source": [
        "## Target variable \n",
        "\n",
        "Looking at distribution"
      ]
    },
    {
      "metadata": {
        "id": "Hp84zoV91n5V",
        "colab_type": "code",
        "colab": {
          "autoexec": {
            "startup": false,
            "wait_interval": 0
          },
          "output_extras": [
            {}
          ]
        },
        "outputId": "23ba9538-ead8-40a5-fb27-b3214644621c"
      },
      "cell_type": "code",
      "source": [
        "train['loss'].describe()"
      ],
      "execution_count": 0,
      "outputs": [
        {
          "output_type": "execute_result",
          "data": {
            "text/plain": [
              "count    188318.000000\n",
              "mean       3037.337686\n",
              "std        2904.086186\n",
              "min           0.670000\n",
              "25%        1204.460000\n",
              "50%        2115.570000\n",
              "75%        3864.045000\n",
              "max      121012.250000\n",
              "Name: loss, dtype: float64"
            ]
          },
          "metadata": {
            "tags": []
          },
          "execution_count": 5
        }
      ]
    },
    {
      "metadata": {
        "id": "v5O4stRG1n5i",
        "colab_type": "code",
        "colab": {
          "autoexec": {
            "startup": false,
            "wait_interval": 0
          },
          "output_extras": [
            {},
            {}
          ]
        },
        "outputId": "a174f39d-aa49-48b3-f3e7-7f1963fc6f2c"
      },
      "cell_type": "code",
      "source": [
        "train['loss'].hist(bins=100)"
      ],
      "execution_count": 0,
      "outputs": [
        {
          "output_type": "execute_result",
          "data": {
            "text/plain": [
              "<matplotlib.axes._subplots.AxesSubplot at 0x7f61e57cca20>"
            ]
          },
          "metadata": {
            "tags": []
          },
          "execution_count": 6
        },
        {
          "output_type": "display_data",
          "data": {
            "image/png": "[encoded data removed]",
            "text/plain": [
              "<matplotlib.figure.Figure at 0x7f61e57cc438>"
            ]
          },
          "metadata": {
            "tags": []
          }
        }
      ]
    },
    {
      "metadata": {
        "id": "eRlYGxyO1n5y",
        "colab_type": "text"
      },
      "cell_type": "markdown",
      "source": [
        "Apparently it's highly skewed - let's check some outliers (top 1% percentile)"
      ]
    },
    {
      "metadata": {
        "id": "1IQBW8il1n52",
        "colab_type": "code",
        "colab": {
          "autoexec": {
            "startup": false,
            "wait_interval": 0
          },
          "output_extras": [
            {},
            {}
          ]
        },
        "outputId": "6006c1f2-aa61-4a0c-9b3c-e94b57d6c020"
      },
      "cell_type": "code",
      "source": [
        "train[ train.loss < np.percentile(train.loss, 99) ]['loss'].hist(bins=100)"
      ],
      "execution_count": 0,
      "outputs": [
        {
          "output_type": "execute_result",
          "data": {
            "text/plain": [
              "<matplotlib.axes._subplots.AxesSubplot at 0x7f61e4285a20>"
            ]
          },
          "metadata": {
            "tags": []
          },
          "execution_count": 7
        },
        {
          "output_type": "display_data",
          "data": {
            "image/png": "[encoded data removed]",
            "text/plain": [
              "<matplotlib.figure.Figure at 0x7f61e5d1e8d0>"
            ]
          },
          "metadata": {
            "tags": []
          }
        }
      ]
    },
    {
      "metadata": {
        "id": "Zr8KwkS81n6E",
        "colab_type": "text"
      },
      "cell_type": "markdown",
      "source": [
        "Let's do log transformation, to make our distribution more 'regular'"
      ]
    },
    {
      "metadata": {
        "id": "CyQy-9Ep1n6G",
        "colab_type": "code",
        "colab": {
          "autoexec": {
            "startup": false,
            "wait_interval": 0
          },
          "output_extras": [
            {},
            {}
          ]
        },
        "outputId": "e7e905e6-87b8-429d-9e24-b574944be9a3"
      },
      "cell_type": "code",
      "source": [
        "train['log_loss'] = np.log( train['loss'] + 1 ) #pamiętaj o +1 albo spróbuj np.log(0) w osobnej komórce\n",
        "train['log_loss'].hist(bins=100)"
      ],
      "execution_count": 0,
      "outputs": [
        {
          "output_type": "execute_result",
          "data": {
            "text/plain": [
              "<matplotlib.axes._subplots.AxesSubplot at 0x7f61e5d32d30>"
            ]
          },
          "metadata": {
            "tags": []
          },
          "execution_count": 8
        },
        {
          "output_type": "display_data",
          "data": {
            "image/png": "[encoded data removed]",
            "text/plain": [
              "<matplotlib.figure.Figure at 0x7f61e57cc048>"
            ]
          },
          "metadata": {
            "tags": []
          }
        }
      ]
    },
    {
      "metadata": {
        "id": "WOT58n4l1n6Q",
        "colab_type": "text"
      },
      "cell_type": "markdown",
      "source": [
        "Some 'loose' bins on the left... Let's check them"
      ]
    },
    {
      "metadata": {
        "id": "AuG9SIhQ1n6S",
        "colab_type": "code",
        "colab": {
          "autoexec": {
            "startup": false,
            "wait_interval": 0
          },
          "output_extras": [
            {},
            {}
          ]
        },
        "outputId": "cfc1622f-b5da-4585-edd7-5635289d08c3"
      },
      "cell_type": "code",
      "source": [
        "train[ train.log_loss < 5 ]['log_loss'].hist(bins=100)"
      ],
      "execution_count": 0,
      "outputs": [
        {
          "output_type": "execute_result",
          "data": {
            "text/plain": [
              "<matplotlib.axes._subplots.AxesSubplot at 0x7f61e0822668>"
            ]
          },
          "metadata": {
            "tags": []
          },
          "execution_count": 9
        },
        {
          "output_type": "display_data",
          "data": {
            "image/png": "[encoded data removed]",
            "text/plain": [
              "<matplotlib.figure.Figure at 0x7f61e42e19b0>"
            ]
          },
          "metadata": {
            "tags": []
          }
        }
      ]
    },
    {
      "metadata": {
        "id": "I6EVMQnj1n6g",
        "colab_type": "text"
      },
      "cell_type": "markdown",
      "source": [
        "To get rid of this, lets' add 50 instead of 1 to our function"
      ]
    },
    {
      "metadata": {
        "id": "jT-jfCl81n6j",
        "colab_type": "code",
        "colab": {
          "autoexec": {
            "startup": false,
            "wait_interval": 0
          }
        }
      },
      "cell_type": "code",
      "source": [
        "log_shift = 50"
      ],
      "execution_count": 0,
      "outputs": []
    },
    {
      "metadata": {
        "id": "6SIIXYkW1n6p",
        "colab_type": "code",
        "colab": {
          "autoexec": {
            "startup": false,
            "wait_interval": 0
          },
          "output_extras": [
            {},
            {}
          ]
        },
        "outputId": "81b7caf2-23d3-4587-817c-cb2733ce6998"
      },
      "cell_type": "code",
      "source": [
        "train['log_loss'] = np.log( train['loss'] + log_shift ) #zmienić an shift, odjać potem\n",
        "train[ train.log_loss < 5.5 ]['log_loss'].hist(bins=100)"
      ],
      "execution_count": 0,
      "outputs": [
        {
          "output_type": "execute_result",
          "data": {
            "text/plain": [
              "<matplotlib.axes._subplots.AxesSubplot at 0x7f61e0643668>"
            ]
          },
          "metadata": {
            "tags": []
          },
          "execution_count": 11
        },
        {
          "output_type": "display_data",
          "data": {
            "image/png": "[encoded data removed]",
            "text/plain": [
              "<matplotlib.figure.Figure at 0x7f61e067cba8>"
            ]
          },
          "metadata": {
            "tags": []
          }
        }
      ]
    },
    {
      "metadata": {
        "id": "FSpTqHwr1n6y",
        "colab_type": "text"
      },
      "cell_type": "markdown",
      "source": [
        "Look at it once again. \n",
        "Better? Better."
      ]
    },
    {
      "metadata": {
        "id": "Sekgo4_K1n60",
        "colab_type": "code",
        "colab": {
          "autoexec": {
            "startup": false,
            "wait_interval": 0
          },
          "output_extras": [
            {},
            {}
          ]
        },
        "outputId": "1a21331c-429a-4c6e-cea1-4c1245d2c53c"
      },
      "cell_type": "code",
      "source": [
        "train['log_loss'].hist(bins=100)"
      ],
      "execution_count": 0,
      "outputs": [
        {
          "output_type": "execute_result",
          "data": {
            "text/plain": [
              "<matplotlib.axes._subplots.AxesSubplot at 0x7f61e06ef9e8>"
            ]
          },
          "metadata": {
            "tags": []
          },
          "execution_count": 12
        },
        {
          "output_type": "display_data",
          "data": {
            "image/png": "[encoded data removed]",
            "text/plain": [
              "<matplotlib.figure.Figure at 0x7f61e06d2f28>"
            ]
          },
          "metadata": {
            "tags": []
          }
        }
      ]
    },
    {
      "metadata": {
        "id": "k9GeBbUS1n7B",
        "colab_type": "text"
      },
      "cell_type": "markdown",
      "source": [
        "## Categorical features\n",
        "All have \"cat\" prefix"
      ]
    },
    {
      "metadata": {
        "id": "Koh44qpR1n7E",
        "colab_type": "code",
        "colab": {
          "autoexec": {
            "startup": false,
            "wait_interval": 0
          },
          "output_extras": [
            {}
          ]
        },
        "outputId": "2f09348e-a2ec-4f92-b72a-b12f2d800e0e"
      },
      "cell_type": "code",
      "source": [
        "cat_feats = [feat for feat in train.columns if 'cat' in feat]\n",
        "print(len(cat_feats),  cat_feats)"
      ],
      "execution_count": 0,
      "outputs": [
        {
          "output_type": "stream",
          "text": [
            "116 ['cat1', 'cat2', 'cat3', 'cat4', 'cat5', 'cat6', 'cat7', 'cat8', 'cat9', 'cat10', 'cat11', 'cat12', 'cat13', 'cat14', 'cat15', 'cat16', 'cat17', 'cat18', 'cat19', 'cat20', 'cat21', 'cat22', 'cat23', 'cat24', 'cat25', 'cat26', 'cat27', 'cat28', 'cat29', 'cat30', 'cat31', 'cat32', 'cat33', 'cat34', 'cat35', 'cat36', 'cat37', 'cat38', 'cat39', 'cat40', 'cat41', 'cat42', 'cat43', 'cat44', 'cat45', 'cat46', 'cat47', 'cat48', 'cat49', 'cat50', 'cat51', 'cat52', 'cat53', 'cat54', 'cat55', 'cat56', 'cat57', 'cat58', 'cat59', 'cat60', 'cat61', 'cat62', 'cat63', 'cat64', 'cat65', 'cat66', 'cat67', 'cat68', 'cat69', 'cat70', 'cat71', 'cat72', 'cat73', 'cat74', 'cat75', 'cat76', 'cat77', 'cat78', 'cat79', 'cat80', 'cat81', 'cat82', 'cat83', 'cat84', 'cat85', 'cat86', 'cat87', 'cat88', 'cat89', 'cat90', 'cat91', 'cat92', 'cat93', 'cat94', 'cat95', 'cat96', 'cat97', 'cat98', 'cat99', 'cat100', 'cat101', 'cat102', 'cat103', 'cat104', 'cat105', 'cat106', 'cat107', 'cat108', 'cat109', 'cat110', 'cat111', 'cat112', 'cat113', 'cat114', 'cat115', 'cat116']\n"
          ],
          "name": "stdout"
        }
      ]
    },
    {
      "metadata": {
        "id": "WTLUgpLs1n7r",
        "colab_type": "text"
      },
      "cell_type": "markdown",
      "source": [
        "Quite a lot, huh? Let's check uniqe values of each categorical feature"
      ]
    },
    {
      "metadata": {
        "id": "bQnXSbJZ1n7t",
        "colab_type": "code",
        "colab": {
          "autoexec": {
            "startup": false,
            "wait_interval": 0
          },
          "output_extras": [
            {}
          ]
        },
        "outputId": "e0508f26-a65c-432b-aa62-1f5ff89a2433"
      },
      "cell_type": "code",
      "source": [
        "unq_values = [train[feat].nunique() for feat in cat_feats]\n",
        "\n",
        "id_cat_feats = range(len(cat_feats))\n",
        "plt.figure(figsize=(18, 10))\n",
        "plt.plot(id_cat_feats, unq_values)\n",
        "plt.xticks(id_cat_feats, cat_feats, rotation='vertical');"
      ],
      "execution_count": 0,
      "outputs": [
        {
          "output_type": "display_data",
          "data": {
            "image/png": "[encoded data removed]",
            "text/plain": [
              "<matplotlib.figure.Figure at 0x7f61e03050b8>"
            ]
          },
          "metadata": {
            "tags": []
          }
        }
      ]
    },
    {
      "metadata": {
        "id": "rqC5uIeM1n78",
        "colab_type": "text"
      },
      "cell_type": "markdown",
      "source": [
        "Most of them have only two values, but same many more. It's hard to look at features with realtively small number of values, but we can change it easily:"
      ]
    },
    {
      "metadata": {
        "id": "DrXHPNHJ1n8B",
        "colab_type": "code",
        "colab": {
          "autoexec": {
            "startup": false,
            "wait_interval": 0
          },
          "output_extras": [
            {}
          ]
        },
        "outputId": "824ba1ed-b6c7-4aa4-ddc9-25475f25b7f6"
      },
      "cell_type": "code",
      "source": [
        "cut_last_elems = 20\n",
        "plt.figure(figsize=(18, 10))\n",
        "plt.plot(id_cat_feats[:-cut_last_elems], unq_values[:-cut_last_elems])\n",
        "plt.xticks(id_cat_feats[:-cut_last_elems], cat_feats[:-cut_last_elems], rotation='vertical');"
      ],
      "execution_count": 0,
      "outputs": [
        {
          "output_type": "display_data",
          "data": {
            "image/png": "[encoded data removed]",
            "text/plain": [
              "<matplotlib.figure.Figure at 0x7f61e0182f60>"
            ]
          },
          "metadata": {
            "tags": []
          }
        }
      ]
    },
    {
      "metadata": {
        "id": "3p4rveEc1n8N",
        "colab_type": "text"
      },
      "cell_type": "markdown",
      "source": [
        "It seems that after certain number of features (e.g 96), the number of unique values rapidly increases"
      ]
    },
    {
      "metadata": {
        "id": "9VCMHPYS1n8S",
        "colab_type": "text"
      },
      "cell_type": "markdown",
      "source": [
        "## Continuous features\n",
        "All have \"cont\" prefix"
      ]
    },
    {
      "metadata": {
        "id": "ap5pe-ai1n8V",
        "colab_type": "code",
        "colab": {
          "autoexec": {
            "startup": false,
            "wait_interval": 0
          },
          "output_extras": [
            {}
          ]
        },
        "outputId": "94ebf294-5704-42a2-e201-3d81f0e2bf1f"
      },
      "cell_type": "code",
      "source": [
        "cont_feats = [feat for feat in train.columns if 'cont' in feat]\n",
        "print(len(cont_feats),  cont_feats)"
      ],
      "execution_count": 0,
      "outputs": [
        {
          "output_type": "stream",
          "text": [
            "14 ['cont1', 'cont2', 'cont3', 'cont4', 'cont5', 'cont6', 'cont7', 'cont8', 'cont9', 'cont10', 'cont11', 'cont12', 'cont13', 'cont14']\n"
          ],
          "name": "stdout"
        }
      ]
    },
    {
      "metadata": {
        "id": "iyhDHT-h1n8d",
        "colab_type": "text"
      },
      "cell_type": "markdown",
      "source": [
        "Only 14 of them - they're evidently outnumbered by categorical ones... Let's check distributions"
      ]
    },
    {
      "metadata": {
        "id": "WniCdgyo1n8i",
        "colab_type": "code",
        "colab": {
          "autoexec": {
            "startup": false,
            "wait_interval": 0
          },
          "output_extras": [
            {}
          ]
        },
        "outputId": "0bb4363a-b18f-4899-e408-1da478b58ac6"
      },
      "cell_type": "code",
      "source": [
        "train[ cont_feats ].hist(bins=30, figsize=(20, 15));"
      ],
      "execution_count": 0,
      "outputs": [
        {
          "output_type": "display_data",
          "data": {
            "image/png": "[encoded data removed]",
            "text/plain": [
              "<matplotlib.figure.Figure at 0x7f61e42eb710>"
            ]
          },
          "metadata": {
            "tags": []
          }
        }
      ]
    },
    {
      "metadata": {
        "id": "Yo4MPQqR1n8o",
        "colab_type": "text"
      },
      "cell_type": "markdown",
      "source": [
        "## Evaluation\n",
        "Chosen success metric: **[Mean absolute error](https://en.wikipedia.org/wiki/Mean_absolute_error)**.\n",
        "\n",
        "## Base Line - dummy regressor\n",
        "Let's build the simplest model"
      ]
    },
    {
      "metadata": {
        "id": "6D2s9sfq1n8p",
        "colab_type": "code",
        "colab": {
          "autoexec": {
            "startup": false,
            "wait_interval": 0
          },
          "output_extras": [
            {}
          ]
        },
        "outputId": "df664212-6060-42a9-bd6b-b45845c1dbde"
      },
      "cell_type": "code",
      "source": [
        "def base_line_model(train, target_variable='loss', strategy='mean'):\n",
        "    X = train[cont_feats].values\n",
        "    y = train[target_variable].values\n",
        "\n",
        "    model = DummyRegressor(strategy=strategy)\n",
        "    model.fit(X, y)\n",
        "    y_pred = model.predict(X)\n",
        "\n",
        "    if target_variable == 'log_loss':\n",
        "        y = np.exp(y) - log_shift\n",
        "        y_pred = np.exp(y_pred) - log_shift\n",
        "        y_pred[ y_pred < 0 ] = 0\n",
        "\n",
        "    score = mean_absolute_error(y, y_pred)\n",
        "        \n",
        "    return score\n",
        "\n",
        "for strategy in ['mean', 'median']:\n",
        "    for target_variable in ['loss', 'log_loss']:\n",
        "        score = base_line_model(train, target_variable=target_variable, strategy=strategy)\n",
        "        print(strategy, target_variable, score)"
      ],
      "execution_count": 0,
      "outputs": [
        {
          "output_type": "stream",
          "text": [
            "mean loss 1966.16528556\n",
            "mean log_loss 1810.36051062\n",
            "median loss 1809.04878647\n",
            "median log_loss 1809.04878647\n"
          ],
          "name": "stdout"
        }
      ]
    },
    {
      "metadata": {
        "id": "yfrwHJHd1n82",
        "colab_type": "text"
      },
      "cell_type": "markdown",
      "source": [
        "Here we have score achieved by 'dummy' regressor (focused on simple mean or median) - this will serve as 'baseline' for more advanced models."
      ]
    },
    {
      "metadata": {
        "id": "xyLB9MuB1n84",
        "colab_type": "text"
      },
      "cell_type": "markdown",
      "source": [
        "## Preparing data for NN"
      ]
    },
    {
      "metadata": {
        "id": "obRlfzzf1n9A",
        "colab_type": "code",
        "colab": {
          "autoexec": {
            "startup": false,
            "wait_interval": 0
          }
        }
      },
      "cell_type": "code",
      "source": [
        "df_train = train #.sample(10000) #zmniejszamy ilość danych, żeby szybciej liczyło się\n",
        "y = df_train['log_loss'].values"
      ],
      "execution_count": 0,
      "outputs": []
    },
    {
      "metadata": {
        "id": "Nxg4zD7K1n9G",
        "colab_type": "text"
      },
      "cell_type": "markdown",
      "source": [
        "## Categorical features"
      ]
    },
    {
      "metadata": {
        "id": "cG1Kuzbx1n9H",
        "colab_type": "code",
        "colab": {
          "autoexec": {
            "startup": false,
            "wait_interval": 0
          }
        }
      },
      "cell_type": "code",
      "source": [
        "sparse_data = []\n",
        "\n",
        "feat_cats = [f for f in df_train.columns if 'cat' in f]\n",
        "for feat in feat_cats:\n",
        "    dummy = pd.get_dummies(df_train[feat].astype('category'))\n",
        "    tmp = csr_matrix(dummy)\n",
        "    sparse_data.append(tmp)"
      ],
      "execution_count": 0,
      "outputs": []
    },
    {
      "metadata": {
        "id": "XhZ1RPtG1n9T",
        "colab_type": "text"
      },
      "cell_type": "markdown",
      "source": [
        "## Continous features"
      ]
    },
    {
      "metadata": {
        "id": "NX8Kb2V11n9U",
        "colab_type": "code",
        "colab": {
          "autoexec": {
            "startup": false,
            "wait_interval": 0
          },
          "output_extras": [
            {}
          ]
        },
        "outputId": "e1421133-f5a4-4635-e8b9-9a2a8f79263b"
      },
      "cell_type": "code",
      "source": [
        "f_num = [f for f in df_train.columns if 'cont' in f]\n",
        "scaler = StandardScaler()\n",
        "tmp = csr_matrix(scaler.fit_transform(df_train[f_num]))\n",
        "sparse_data.append(tmp)\n",
        "\n",
        "X = hstack(sparse_data, format = 'csr')\n",
        "X"
      ],
      "execution_count": 0,
      "outputs": [
        {
          "output_type": "execute_result",
          "data": {
            "text/plain": [
              "<188318x1153 sparse matrix of type '<class 'numpy.float64'>'\n",
              "\twith 24481340 stored elements in Compressed Sparse Row format>"
            ]
          },
          "metadata": {
            "tags": []
          },
          "execution_count": 21
        }
      ]
    },
    {
      "metadata": {
        "id": "rXTMOWKj1n9c",
        "colab_type": "text"
      },
      "cell_type": "markdown",
      "source": [
        "## NN - Architecture"
      ]
    },
    {
      "metadata": {
        "id": "BaxDIRgX1n9c",
        "colab_type": "code",
        "colab": {
          "autoexec": {
            "startup": false,
            "wait_interval": 0
          }
        }
      },
      "cell_type": "code",
      "source": [
        "def nn_model(input_dim):\n",
        "    model = Sequential()\n",
        "\n",
        "    model.add(Dense(512, input_dim = input_dim))\n",
        "    model.add(PReLU())\n",
        "    model.add(BatchNormalization())\n",
        "    model.add(Dropout(0.3))\n",
        "\n",
        "    model.add(Dense(256))\n",
        "    model.add(PReLU())\n",
        "    model.add(BatchNormalization())\n",
        "    model.add(Dropout(0.2))\n",
        "    \n",
        "    model.add(Dense(128))\n",
        "    model.add(PReLU())\n",
        "    model.add(BatchNormalization())\n",
        "    model.add(Dropout(0.2))\n",
        "\n",
        "    model.add(Dense(64))\n",
        "    model.add(PReLU())\n",
        "    model.add(BatchNormalization())\n",
        "    model.add(Dropout(0.15))\n",
        "    \n",
        "    \n",
        "    #model.add(Dense(32))\n",
        "    #model.add(PReLU())\n",
        "    #model.add(BatchNormalization())\n",
        "    #model.add(Dropout(0.15))\n",
        "\n",
        "    model.add(Dense(1))\n",
        "    model.compile(loss = 'mae', optimizer = 'adadelta')\n",
        "    return(model)"
      ],
      "execution_count": 0,
      "outputs": []
    },
    {
      "metadata": {
        "id": "Mr35Odam1n9f",
        "colab_type": "code",
        "colab": {
          "autoexec": {
            "startup": false,
            "wait_interval": 0
          }
        }
      },
      "cell_type": "code",
      "source": [
        "def batch_generator(X, y, batch_size, shuffle):\n",
        "    #chenglong code for fiting from generator (https://www.kaggle.com/c/talkingdata-mobile-user-demographics/forums/t/22567/neural-network-for-sparse-matrices)\n",
        "    number_of_batches = np.ceil(X.shape[0]/batch_size)\n",
        "    counter = 0\n",
        "    sample_index = np.arange(X.shape[0])\n",
        "\n",
        "    if shuffle:\n",
        "        np.random.shuffle(sample_index)\n",
        "        \n",
        "    while True:\n",
        "        batch_index = sample_index[batch_size*counter:batch_size*(counter+1)]\n",
        "        X_batch = X[batch_index,:].toarray()\n",
        "        y_batch = y[batch_index]\n",
        "        counter += 1\n",
        "        yield X_batch, y_batch\n",
        "\n",
        "        if (counter == number_of_batches):\n",
        "            if shuffle:\n",
        "                np.random.shuffle(sample_index)\n",
        "            counter = 0\n",
        "            \n",
        "def batch_generatorp(X, batch_size, shuffle):\n",
        "    number_of_batches = X.shape[0] / np.ceil(X.shape[0]/batch_size)\n",
        "    counter = 0\n",
        "    sample_index = np.arange(X.shape[0])\n",
        "    while True:\n",
        "        batch_index = sample_index[batch_size * counter:batch_size * (counter + 1)]\n",
        "        X_batch = X[batch_index, :].toarray()\n",
        "        counter += 1\n",
        "        yield X_batch\n",
        "        if (counter == number_of_batches):\n",
        "            counter = 0"
      ],
      "execution_count": 0,
      "outputs": []
    },
    {
      "metadata": {
        "id": "RW-5hIF41n9i",
        "colab_type": "text"
      },
      "cell_type": "markdown",
      "source": [
        "## Training"
      ]
    },
    {
      "metadata": {
        "id": "ifq4oM8b1n9i",
        "colab_type": "code",
        "colab": {
          "autoexec": {
            "startup": false,
            "wait_interval": 0
          },
          "output_extras": [
            {},
            {},
            {},
            {}
          ]
        },
        "outputId": "159e9670-e836-4c01-f599-fbb06f1f0d76"
      },
      "cell_type": "code",
      "source": [
        "nepochs = 200\n",
        "nfolds = 3\n",
        "\n",
        "cv = KFold(n_splits=nfolds, shuffle = True, random_state = 2017)\n",
        "\n",
        "y_preds_nn = []\n",
        "y_tests_nn= []\n",
        "scores = []\n",
        "\n",
        "for num_iter, (train_index, test_index) in enumerate(cv.split(y)):\n",
        "    X_train, y_train = X[train_index], y[train_index]\n",
        "    X_test, y_test   = X[test_index], y[test_index]\n",
        "        \n",
        "    model = nn_model(X_train.shape[1])\n",
        "\n",
        "    model.fit_generator(generator = batch_generator(X_train, y_train, 128, True),\n",
        "                                  epochs = nepochs,\n",
        "                                  steps_per_epoch = 100,\n",
        "                                  validation_data=(X_test.todense(), y_test),\n",
        "                                  validation_steps=62.5,\n",
        "                                  verbose = 2) \n",
        "    \n",
        "    y_pred = (np.exp(model.predict_generator(generator = batch_generatorp(X_test, 128, False), steps = X_test.shape[0])[:,0]))-log_shift\n",
        "    score = mean_absolute_error((np.exp(y_test))-log_shift, y_pred)\n",
        "    print(\"Fold{0}, score={1}\".format(num_iter+1, score))\n",
        "    \n",
        "    scores.append(score)\n",
        "    y_tests_nn.append((np.exp(y_test))-log_shift)\n",
        "    y_preds_nn.append(y_pred)"
      ],
      "execution_count": 0,
      "outputs": [
        {
          "output_type": "stream",
          "text": [
            "Epoch 1/200\n",
            "10s - loss: 7.4080 - val_loss: 7.2626\n",
            "Epoch 2/200\n",
            "10s - loss: 6.3194 - val_loss: 5.8183\n",
            "Epoch 3/200\n",
            "10s - loss: 3.4611 - val_loss: 1.2707\n",
            "Epoch 4/200\n",
            "9s - loss: 1.4639 - val_loss: 0.8001\n",
            "Epoch 5/200\n",
            "9s - loss: 1.1928 - val_loss: 0.6113\n",
            "Epoch 6/200\n",
            "10s - loss: 1.0711 - val_loss: 0.6033\n",
            "Epoch 7/200\n",
            "10s - loss: 0.9935 - val_loss: 0.5798\n",
            "Epoch 8/200\n",
            "10s - loss: 0.9380 - val_loss: 0.5432\n",
            "Epoch 9/200\n",
            "9s - loss: 0.8981 - val_loss: 0.5388\n",
            "Epoch 10/200\n",
            "10s - loss: 0.8620 - val_loss: 0.5060\n",
            "Epoch 11/200\n",
            "10s - loss: 0.8302 - val_loss: 0.5044\n",
            "Epoch 12/200\n",
            "10s - loss: 0.8050 - val_loss: 0.4819\n",
            "Epoch 13/200\n",
            "10s - loss: 0.7750 - val_loss: 0.4585\n",
            "Epoch 14/200\n",
            "10s - loss: 0.7528 - val_loss: 0.4482\n",
            "Epoch 15/200\n",
            "10s - loss: 0.7309 - val_loss: 0.4578\n",
            "Epoch 16/200\n",
            "10s - loss: 0.7198 - val_loss: 0.4568\n",
            "Epoch 17/200\n",
            "10s - loss: 0.6968 - val_loss: 0.4485\n",
            "Epoch 18/200\n",
            "10s - loss: 0.6841 - val_loss: 0.4406\n",
            "Epoch 19/200\n",
            "9s - loss: 0.6769 - val_loss: 0.4465\n",
            "Epoch 20/200\n",
            "10s - loss: 0.6716 - val_loss: 0.4412\n",
            "Epoch 21/200\n",
            "10s - loss: 0.6591 - val_loss: 0.4411\n",
            "Epoch 22/200\n",
            "9s - loss: 0.6543 - val_loss: 0.4338\n",
            "Epoch 23/200\n",
            "10s - loss: 0.6410 - val_loss: 0.4326\n",
            "Epoch 24/200\n",
            "10s - loss: 0.6434 - val_loss: 0.4455\n",
            "Epoch 25/200\n",
            "10s - loss: 0.6253 - val_loss: 0.4448\n",
            "Epoch 26/200\n",
            "10s - loss: 0.6340 - val_loss: 0.4293\n",
            "Epoch 27/200\n",
            "10s - loss: 0.6366 - val_loss: 0.4361\n",
            "Epoch 28/200\n",
            "9s - loss: 0.6229 - val_loss: 0.4392\n",
            "Epoch 29/200\n",
            "10s - loss: 0.6273 - val_loss: 0.4371\n",
            "Epoch 30/200\n",
            "9s - loss: 0.6116 - val_loss: 0.4338\n",
            "Epoch 31/200\n",
            "10s - loss: 0.6215 - val_loss: 0.4356\n",
            "Epoch 32/200\n",
            "10s - loss: 0.6129 - val_loss: 0.4229\n",
            "Epoch 33/200\n",
            "10s - loss: 0.6154 - val_loss: 0.4400\n",
            "Epoch 34/200\n",
            "10s - loss: 0.6057 - val_loss: 0.4293\n",
            "Epoch 35/200\n",
            "10s - loss: 0.6009 - val_loss: 0.4293\n",
            "Epoch 36/200\n",
            "10s - loss: 0.6074 - val_loss: 0.4287\n",
            "Epoch 37/200\n",
            "10s - loss: 0.5961 - val_loss: 0.4220\n",
            "Epoch 38/200\n",
            "10s - loss: 0.5994 - val_loss: 0.4282\n",
            "Epoch 39/200\n",
            "9s - loss: 0.6051 - val_loss: 0.4336\n",
            "Epoch 40/200\n",
            "10s - loss: 0.5902 - val_loss: 0.4279\n",
            "Epoch 41/200\n",
            "10s - loss: 0.5988 - val_loss: 0.4321\n",
            "Epoch 42/200\n",
            "10s - loss: 0.5940 - val_loss: 0.4224\n",
            "Epoch 43/200\n",
            "9s - loss: 0.5879 - val_loss: 0.4222\n",
            "Epoch 44/200\n",
            "10s - loss: 0.5867 - val_loss: 0.4408\n",
            "Epoch 45/200\n",
            "10s - loss: 0.5785 - val_loss: 0.4229\n",
            "Epoch 46/200\n",
            "9s - loss: 0.5825 - val_loss: 0.4225\n",
            "Epoch 47/200\n",
            "10s - loss: 0.5745 - val_loss: 0.4178\n",
            "Epoch 48/200\n",
            "10s - loss: 0.5889 - val_loss: 0.4246\n",
            "Epoch 49/200\n",
            "9s - loss: 0.5707 - val_loss: 0.4269\n",
            "Epoch 50/200\n",
            "10s - loss: 0.5797 - val_loss: 0.4237\n",
            "Epoch 51/200\n",
            "10s - loss: 0.5752 - val_loss: 0.4258\n",
            "Epoch 52/200\n",
            "10s - loss: 0.5721 - val_loss: 0.4179\n",
            "Epoch 53/200\n",
            "10s - loss: 0.5699 - val_loss: 0.4275\n",
            "Epoch 54/200\n",
            "10s - loss: 0.5619 - val_loss: 0.4236\n",
            "Epoch 55/200\n",
            "10s - loss: 0.5680 - val_loss: 0.4192\n",
            "Epoch 56/200\n",
            "10s - loss: 0.5760 - val_loss: 0.4180\n",
            "Epoch 57/200\n",
            "10s - loss: 0.5757 - val_loss: 0.4157\n",
            "Epoch 58/200\n",
            "10s - loss: 0.5586 - val_loss: 0.4270\n",
            "Epoch 59/200\n",
            "9s - loss: 0.5596 - val_loss: 0.4185\n",
            "Epoch 60/200\n",
            "10s - loss: 0.5633 - val_loss: 0.4229\n",
            "Epoch 61/200\n",
            "10s - loss: 0.5637 - val_loss: 0.4237\n",
            "Epoch 62/200\n",
            "10s - loss: 0.5563 - val_loss: 0.4201\n",
            "Epoch 63/200\n",
            "9s - loss: 0.5592 - val_loss: 0.4181\n",
            "Epoch 64/200\n",
            "10s - loss: 0.5614 - val_loss: 0.4196\n",
            "Epoch 65/200\n",
            "10s - loss: 0.5604 - val_loss: 0.4219\n",
            "Epoch 66/200\n",
            "9s - loss: 0.5557 - val_loss: 0.4162\n",
            "Epoch 67/200\n",
            "10s - loss: 0.5547 - val_loss: 0.4212\n",
            "Epoch 68/200\n",
            "10s - loss: 0.5602 - val_loss: 0.4203\n",
            "Epoch 69/200\n",
            "9s - loss: 0.5466 - val_loss: 0.4232\n",
            "Epoch 70/200\n",
            "9s - loss: 0.5483 - val_loss: 0.4278\n",
            "Epoch 71/200\n",
            "10s - loss: 0.5555 - val_loss: 0.4197\n",
            "Epoch 72/200\n",
            "10s - loss: 0.5480 - val_loss: 0.4179\n",
            "Epoch 73/200\n",
            "9s - loss: 0.5513 - val_loss: 0.4242\n",
            "Epoch 74/200\n",
            "10s - loss: 0.5444 - val_loss: 0.4157\n",
            "Epoch 75/200\n",
            "10s - loss: 0.5516 - val_loss: 0.4149\n",
            "Epoch 76/200\n",
            "10s - loss: 0.5448 - val_loss: 0.4225\n",
            "Epoch 77/200\n",
            "9s - loss: 0.5426 - val_loss: 0.4160\n",
            "Epoch 78/200\n",
            "9s - loss: 0.5475 - val_loss: 0.4154\n",
            "Epoch 79/200\n",
            "10s - loss: 0.5518 - val_loss: 0.4180\n",
            "Epoch 80/200\n",
            "10s - loss: 0.5333 - val_loss: 0.4138\n",
            "Epoch 81/200\n",
            "10s - loss: 0.5476 - val_loss: 0.4145\n",
            "Epoch 82/200\n",
            "9s - loss: 0.5466 - val_loss: 0.4198\n",
            "Epoch 83/200\n",
            "10s - loss: 0.5431 - val_loss: 0.4194\n",
            "Epoch 84/200\n",
            "10s - loss: 0.5489 - val_loss: 0.4165\n",
            "Epoch 85/200\n",
            "10s - loss: 0.5396 - val_loss: 0.4188\n",
            "Epoch 86/200\n",
            "10s - loss: 0.5386 - val_loss: 0.4123\n",
            "Epoch 87/200\n",
            "9s - loss: 0.5360 - val_loss: 0.4235\n",
            "Epoch 88/200\n",
            "10s - loss: 0.5426 - val_loss: 0.4180\n",
            "Epoch 89/200\n",
            "10s - loss: 0.5337 - val_loss: 0.4245\n",
            "Epoch 90/200\n",
            "10s - loss: 0.5356 - val_loss: 0.4130\n",
            "Epoch 91/200\n",
            "10s - loss: 0.5297 - val_loss: 0.4135\n",
            "Epoch 92/200\n",
            "9s - loss: 0.5337 - val_loss: 0.4113\n",
            "Epoch 93/200\n",
            "10s - loss: 0.5357 - val_loss: 0.4191\n",
            "Epoch 94/200\n",
            "9s - loss: 0.5338 - val_loss: 0.4200\n",
            "Epoch 95/200\n",
            "10s - loss: 0.5332 - val_loss: 0.4166\n",
            "Epoch 96/200\n",
            "10s - loss: 0.5357 - val_loss: 0.4123\n",
            "Epoch 97/200\n",
            "9s - loss: 0.5256 - val_loss: 0.4184\n",
            "Epoch 98/200\n",
            "10s - loss: 0.5290 - val_loss: 0.4176\n",
            "Epoch 99/200\n",
            "10s - loss: 0.5317 - val_loss: 0.4126\n",
            "Epoch 100/200\n",
            "9s - loss: 0.5300 - val_loss: 0.4174\n",
            "Epoch 101/200\n",
            "10s - loss: 0.5284 - val_loss: 0.4135\n",
            "Epoch 102/200\n",
            "10s - loss: 0.5277 - val_loss: 0.4122\n",
            "Epoch 103/200\n",
            "10s - loss: 0.5253 - val_loss: 0.4137\n",
            "Epoch 104/200\n",
            "10s - loss: 0.5219 - val_loss: 0.4156\n",
            "Epoch 105/200\n",
            "9s - loss: 0.5277 - val_loss: 0.4151\n",
            "Epoch 106/200\n",
            "9s - loss: 0.5196 - val_loss: 0.4106\n",
            "Epoch 107/200\n",
            "9s - loss: 0.5260 - val_loss: 0.4138\n",
            "Epoch 108/200\n",
            "10s - loss: 0.5276 - val_loss: 0.4100\n",
            "Epoch 109/200\n",
            "10s - loss: 0.5180 - val_loss: 0.4122\n",
            "Epoch 110/200\n",
            "9s - loss: 0.5214 - val_loss: 0.4132\n",
            "Epoch 111/200\n",
            "9s - loss: 0.5179 - val_loss: 0.4125\n",
            "Epoch 112/200\n",
            "9s - loss: 0.5179 - val_loss: 0.4160\n",
            "Epoch 113/200\n",
            "9s - loss: 0.5161 - val_loss: 0.4146\n",
            "Epoch 114/200\n",
            "9s - loss: 0.5157 - val_loss: 0.4122\n",
            "Epoch 115/200\n",
            "9s - loss: 0.5160 - val_loss: 0.4124\n",
            "Epoch 116/200\n",
            "9s - loss: 0.5236 - val_loss: 0.4131\n",
            "Epoch 117/200\n",
            "9s - loss: 0.5209 - val_loss: 0.4145\n",
            "Epoch 118/200\n",
            "9s - loss: 0.5152 - val_loss: 0.4123\n",
            "Epoch 119/200\n",
            "9s - loss: 0.5246 - val_loss: 0.4111\n",
            "Epoch 120/200\n",
            "9s - loss: 0.5147 - val_loss: 0.4135\n",
            "Epoch 121/200\n",
            "9s - loss: 0.5145 - val_loss: 0.4120\n",
            "Epoch 122/200\n",
            "9s - loss: 0.5111 - val_loss: 0.4192\n",
            "Epoch 123/200\n",
            "9s - loss: 0.5139 - val_loss: 0.4176\n",
            "Epoch 124/200\n",
            "9s - loss: 0.5104 - val_loss: 0.4108\n",
            "Epoch 125/200\n",
            "9s - loss: 0.5104 - val_loss: 0.4107\n",
            "Epoch 126/200\n",
            "9s - loss: 0.5072 - val_loss: 0.4185\n",
            "Epoch 127/200\n",
            "9s - loss: 0.5139 - val_loss: 0.4112\n",
            "Epoch 128/200\n",
            "9s - loss: 0.5140 - val_loss: 0.4159\n",
            "Epoch 129/200\n",
            "9s - loss: 0.5168 - val_loss: 0.4125\n",
            "Epoch 130/200\n",
            "9s - loss: 0.5121 - val_loss: 0.4125\n",
            "Epoch 131/200\n",
            "9s - loss: 0.5115 - val_loss: 0.4145\n",
            "Epoch 132/200\n",
            "9s - loss: 0.5037 - val_loss: 0.4090\n",
            "Epoch 133/200\n",
            "9s - loss: 0.5123 - val_loss: 0.4132\n",
            "Epoch 134/200\n",
            "9s - loss: 0.5118 - val_loss: 0.4151\n",
            "Epoch 135/200\n",
            "9s - loss: 0.5153 - val_loss: 0.4099\n",
            "Epoch 136/200\n",
            "9s - loss: 0.5078 - val_loss: 0.4140\n",
            "Epoch 137/200\n",
            "9s - loss: 0.5090 - val_loss: 0.4205\n",
            "Epoch 138/200\n",
            "9s - loss: 0.5061 - val_loss: 0.4114\n",
            "Epoch 139/200\n",
            "9s - loss: 0.4988 - val_loss: 0.4167\n",
            "Epoch 140/200\n",
            "9s - loss: 0.5109 - val_loss: 0.4094\n",
            "Epoch 141/200\n",
            "9s - loss: 0.4972 - val_loss: 0.4094\n",
            "Epoch 142/200\n",
            "9s - loss: 0.5091 - val_loss: 0.4082\n",
            "Epoch 143/200\n",
            "9s - loss: 0.5019 - val_loss: 0.4155\n",
            "Epoch 144/200\n",
            "9s - loss: 0.5083 - val_loss: 0.4225\n",
            "Epoch 145/200\n",
            "9s - loss: 0.5064 - val_loss: 0.4115\n",
            "Epoch 146/200\n",
            "9s - loss: 0.5075 - val_loss: 0.4139\n",
            "Epoch 147/200\n",
            "9s - loss: 0.5025 - val_loss: 0.4095\n",
            "Epoch 148/200\n",
            "9s - loss: 0.5114 - val_loss: 0.4095\n",
            "Epoch 149/200\n",
            "9s - loss: 0.4967 - val_loss: 0.4097\n",
            "Epoch 150/200\n",
            "9s - loss: 0.4970 - val_loss: 0.4098\n",
            "Epoch 151/200\n",
            "9s - loss: 0.5003 - val_loss: 0.4110\n",
            "Epoch 152/200\n",
            "9s - loss: 0.5017 - val_loss: 0.4123\n",
            "Epoch 153/200\n",
            "9s - loss: 0.4973 - val_loss: 0.4106\n",
            "Epoch 154/200\n",
            "9s - loss: 0.5036 - val_loss: 0.4095\n",
            "Epoch 155/200\n",
            "9s - loss: 0.5019 - val_loss: 0.4086\n",
            "Epoch 156/200\n",
            "9s - loss: 0.5008 - val_loss: 0.4118\n",
            "Epoch 157/200\n",
            "9s - loss: 0.4984 - val_loss: 0.4086\n",
            "Epoch 158/200\n",
            "9s - loss: 0.4938 - val_loss: 0.4102\n",
            "Epoch 159/200\n",
            "9s - loss: 0.4980 - val_loss: 0.4101\n",
            "Epoch 160/200\n",
            "9s - loss: 0.4955 - val_loss: 0.4091\n",
            "Epoch 161/200\n",
            "9s - loss: 0.4952 - val_loss: 0.4100\n",
            "Epoch 162/200\n"
          ],
          "name": "stdout"
        },
        {
          "output_type": "stream",
          "text": [
            "9s - loss: 0.4988 - val_loss: 0.4076\n",
            "Epoch 163/200\n",
            "9s - loss: 0.4919 - val_loss: 0.4128\n",
            "Epoch 164/200\n",
            "9s - loss: 0.4997 - val_loss: 0.4107\n",
            "Epoch 165/200\n",
            "9s - loss: 0.4952 - val_loss: 0.4149\n",
            "Epoch 166/200\n",
            "9s - loss: 0.4946 - val_loss: 0.4103\n",
            "Epoch 167/200\n",
            "9s - loss: 0.4941 - val_loss: 0.4112\n",
            "Epoch 168/200\n",
            "9s - loss: 0.4948 - val_loss: 0.4131\n",
            "Epoch 169/200\n",
            "9s - loss: 0.4932 - val_loss: 0.4089\n",
            "Epoch 170/200\n",
            "9s - loss: 0.4911 - val_loss: 0.4093\n",
            "Epoch 171/200\n",
            "9s - loss: 0.4916 - val_loss: 0.4138\n",
            "Epoch 172/200\n",
            "9s - loss: 0.4928 - val_loss: 0.4075\n",
            "Epoch 173/200\n",
            "9s - loss: 0.4921 - val_loss: 0.4126\n",
            "Epoch 174/200\n",
            "9s - loss: 0.4958 - val_loss: 0.4082\n",
            "Epoch 175/200\n",
            "9s - loss: 0.4922 - val_loss: 0.4109\n",
            "Epoch 176/200\n",
            "9s - loss: 0.4973 - val_loss: 0.4071\n",
            "Epoch 177/200\n",
            "9s - loss: 0.4932 - val_loss: 0.4078\n",
            "Epoch 178/200\n",
            "9s - loss: 0.4843 - val_loss: 0.4185\n",
            "Epoch 179/200\n",
            "9s - loss: 0.4913 - val_loss: 0.4086\n",
            "Epoch 180/200\n",
            "9s - loss: 0.4896 - val_loss: 0.4088\n",
            "Epoch 181/200\n",
            "9s - loss: 0.4900 - val_loss: 0.4101\n",
            "Epoch 182/200\n",
            "9s - loss: 0.4855 - val_loss: 0.4117\n",
            "Epoch 183/200\n",
            "9s - loss: 0.4915 - val_loss: 0.4121\n",
            "Epoch 184/200\n",
            "9s - loss: 0.4844 - val_loss: 0.4083\n",
            "Epoch 185/200\n",
            "9s - loss: 0.4910 - val_loss: 0.4101\n",
            "Epoch 186/200\n",
            "9s - loss: 0.4869 - val_loss: 0.4092\n",
            "Epoch 187/200\n",
            "9s - loss: 0.4884 - val_loss: 0.4187\n",
            "Epoch 188/200\n",
            "9s - loss: 0.4849 - val_loss: 0.4082\n",
            "Epoch 189/200\n",
            "9s - loss: 0.4888 - val_loss: 0.4135\n",
            "Epoch 190/200\n",
            "9s - loss: 0.4846 - val_loss: 0.4082\n",
            "Epoch 191/200\n",
            "9s - loss: 0.4860 - val_loss: 0.4109\n",
            "Epoch 192/200\n",
            "9s - loss: 0.4870 - val_loss: 0.4075\n",
            "Epoch 193/200\n",
            "9s - loss: 0.4887 - val_loss: 0.4125\n",
            "Epoch 194/200\n",
            "9s - loss: 0.4922 - val_loss: 0.4094\n",
            "Epoch 195/200\n",
            "9s - loss: 0.4889 - val_loss: 0.4070\n",
            "Epoch 196/200\n",
            "9s - loss: 0.4869 - val_loss: 0.4135\n",
            "Epoch 197/200\n",
            "9s - loss: 0.4810 - val_loss: 0.4091\n",
            "Epoch 198/200\n",
            "9s - loss: 0.4843 - val_loss: 0.4151\n",
            "Epoch 199/200\n",
            "9s - loss: 0.4826 - val_loss: 0.4080\n",
            "Epoch 200/200\n",
            "9s - loss: 0.4820 - val_loss: 0.4081\n",
            "Fold1, score=1162.9608881530476\n",
            "Epoch 1/200\n",
            "9s - loss: 7.4369 - val_loss: 7.2244\n",
            "Epoch 2/200\n",
            "9s - loss: 6.2984 - val_loss: 4.9241\n",
            "Epoch 3/200\n",
            "9s - loss: 2.4515 - val_loss: 1.1846\n",
            "Epoch 4/200\n",
            "9s - loss: 1.4048 - val_loss: 0.8985\n",
            "Epoch 5/200\n",
            "9s - loss: 1.2162 - val_loss: 0.6822\n",
            "Epoch 6/200\n",
            "9s - loss: 1.0987 - val_loss: 0.5765\n",
            "Epoch 7/200\n",
            "9s - loss: 1.0140 - val_loss: 0.6141\n",
            "Epoch 8/200\n",
            "9s - loss: 0.9464 - val_loss: 0.5566\n",
            "Epoch 9/200\n",
            "9s - loss: 0.9080 - val_loss: 0.4898\n",
            "Epoch 10/200\n",
            "9s - loss: 0.8679 - val_loss: 0.4765\n",
            "Epoch 11/200\n",
            "9s - loss: 0.8326 - val_loss: 0.4792\n",
            "Epoch 12/200\n",
            "9s - loss: 0.8128 - val_loss: 0.4943\n",
            "Epoch 13/200\n",
            "9s - loss: 0.7913 - val_loss: 0.4829\n",
            "Epoch 14/200\n",
            "9s - loss: 0.7637 - val_loss: 0.4880\n",
            "Epoch 15/200\n",
            "9s - loss: 0.7493 - val_loss: 0.4472\n",
            "Epoch 16/200\n",
            "9s - loss: 0.7337 - val_loss: 0.4422\n",
            "Epoch 17/200\n",
            "9s - loss: 0.7301 - val_loss: 0.4392\n",
            "Epoch 18/200\n",
            "9s - loss: 0.7097 - val_loss: 0.4360\n",
            "Epoch 19/200\n",
            "9s - loss: 0.6845 - val_loss: 0.4415\n",
            "Epoch 20/200\n",
            "9s - loss: 0.6724 - val_loss: 0.4546\n",
            "Epoch 21/200\n",
            "9s - loss: 0.6702 - val_loss: 0.4452\n",
            "Epoch 22/200\n",
            "9s - loss: 0.6625 - val_loss: 0.4503\n",
            "Epoch 23/200\n",
            "9s - loss: 0.6595 - val_loss: 0.4457\n",
            "Epoch 24/200\n",
            "9s - loss: 0.6508 - val_loss: 0.4304\n",
            "Epoch 25/200\n",
            "9s - loss: 0.6373 - val_loss: 0.4451\n",
            "Epoch 26/200\n",
            "9s - loss: 0.6293 - val_loss: 0.4447\n",
            "Epoch 27/200\n",
            "9s - loss: 0.6305 - val_loss: 0.4337\n",
            "Epoch 28/200\n",
            "9s - loss: 0.6291 - val_loss: 0.4299\n",
            "Epoch 29/200\n",
            "9s - loss: 0.6228 - val_loss: 0.4360\n",
            "Epoch 30/200\n",
            "9s - loss: 0.6208 - val_loss: 0.4228\n",
            "Epoch 31/200\n",
            "9s - loss: 0.6060 - val_loss: 0.4385\n",
            "Epoch 32/200\n",
            "9s - loss: 0.6081 - val_loss: 0.4325\n",
            "Epoch 33/200\n",
            "9s - loss: 0.5900 - val_loss: 0.4217\n",
            "Epoch 34/200\n",
            "9s - loss: 0.5983 - val_loss: 0.4261\n",
            "Epoch 35/200\n",
            "9s - loss: 0.6006 - val_loss: 0.4264\n",
            "Epoch 36/200\n",
            "9s - loss: 0.5961 - val_loss: 0.4287\n",
            "Epoch 37/200\n",
            "9s - loss: 0.5885 - val_loss: 0.4232\n",
            "Epoch 38/200\n",
            "9s - loss: 0.5987 - val_loss: 0.4212\n",
            "Epoch 39/200\n",
            "9s - loss: 0.5866 - val_loss: 0.4349\n",
            "Epoch 40/200\n",
            "9s - loss: 0.5824 - val_loss: 0.4221\n",
            "Epoch 41/200\n",
            "9s - loss: 0.5794 - val_loss: 0.4246\n",
            "Epoch 42/200\n",
            "9s - loss: 0.5793 - val_loss: 0.4169\n",
            "Epoch 43/200\n",
            "9s - loss: 0.5778 - val_loss: 0.4156\n",
            "Epoch 44/200\n",
            "9s - loss: 0.5849 - val_loss: 0.4222\n",
            "Epoch 45/200\n",
            "9s - loss: 0.5753 - val_loss: 0.4230\n",
            "Epoch 46/200\n",
            "9s - loss: 0.5761 - val_loss: 0.4228\n",
            "Epoch 47/200\n",
            "9s - loss: 0.5700 - val_loss: 0.4206\n",
            "Epoch 48/200\n",
            "9s - loss: 0.5740 - val_loss: 0.4216\n",
            "Epoch 49/200\n",
            "9s - loss: 0.5666 - val_loss: 0.4186\n",
            "Epoch 50/200\n",
            "9s - loss: 0.5624 - val_loss: 0.4180\n",
            "Epoch 51/200\n",
            "9s - loss: 0.5621 - val_loss: 0.4193\n",
            "Epoch 52/200\n",
            "9s - loss: 0.5619 - val_loss: 0.4159\n",
            "Epoch 53/200\n",
            "9s - loss: 0.5632 - val_loss: 0.4168\n",
            "Epoch 54/200\n",
            "9s - loss: 0.5648 - val_loss: 0.4157\n",
            "Epoch 55/200\n",
            "9s - loss: 0.5600 - val_loss: 0.4194\n",
            "Epoch 56/200\n",
            "9s - loss: 0.5633 - val_loss: 0.4208\n",
            "Epoch 57/200\n",
            "9s - loss: 0.5583 - val_loss: 0.4203\n",
            "Epoch 58/200\n",
            "9s - loss: 0.5648 - val_loss: 0.4164\n",
            "Epoch 59/200\n",
            "9s - loss: 0.5509 - val_loss: 0.4213\n",
            "Epoch 60/200\n",
            "9s - loss: 0.5484 - val_loss: 0.4126\n",
            "Epoch 61/200\n",
            "9s - loss: 0.5540 - val_loss: 0.4174\n",
            "Epoch 62/200\n",
            "9s - loss: 0.5505 - val_loss: 0.4184\n",
            "Epoch 63/200\n",
            "9s - loss: 0.5497 - val_loss: 0.4193\n",
            "Epoch 64/200\n",
            "9s - loss: 0.5518 - val_loss: 0.4409\n",
            "Epoch 65/200\n",
            "9s - loss: 0.5475 - val_loss: 0.4156\n",
            "Epoch 66/200\n",
            "9s - loss: 0.5455 - val_loss: 0.4148\n",
            "Epoch 67/200\n",
            "9s - loss: 0.5520 - val_loss: 0.4311\n",
            "Epoch 68/200\n",
            "9s - loss: 0.5493 - val_loss: 0.4155\n",
            "Epoch 69/200\n",
            "10s - loss: 0.5443 - val_loss: 0.4213\n",
            "Epoch 70/200\n",
            "9s - loss: 0.5406 - val_loss: 0.4170\n",
            "Epoch 71/200\n",
            "9s - loss: 0.5446 - val_loss: 0.4141\n",
            "Epoch 72/200\n",
            "9s - loss: 0.5422 - val_loss: 0.4166\n",
            "Epoch 73/200\n",
            "9s - loss: 0.5425 - val_loss: 0.4170\n",
            "Epoch 74/200\n",
            "9s - loss: 0.5451 - val_loss: 0.4148\n",
            "Epoch 75/200\n",
            "9s - loss: 0.5467 - val_loss: 0.4150\n",
            "Epoch 76/200\n",
            "9s - loss: 0.5412 - val_loss: 0.4170\n",
            "Epoch 77/200\n",
            "9s - loss: 0.5428 - val_loss: 0.4160\n",
            "Epoch 78/200\n",
            "9s - loss: 0.5378 - val_loss: 0.4180\n",
            "Epoch 79/200\n",
            "9s - loss: 0.5377 - val_loss: 0.4207\n",
            "Epoch 80/200\n",
            "9s - loss: 0.5361 - val_loss: 0.4180\n",
            "Epoch 81/200\n",
            "9s - loss: 0.5351 - val_loss: 0.4144\n",
            "Epoch 82/200\n",
            "9s - loss: 0.5379 - val_loss: 0.4116\n",
            "Epoch 83/200\n",
            "9s - loss: 0.5333 - val_loss: 0.4133\n",
            "Epoch 84/200\n",
            "9s - loss: 0.5291 - val_loss: 0.4245\n",
            "Epoch 85/200\n",
            "9s - loss: 0.5396 - val_loss: 0.4159\n",
            "Epoch 86/200\n",
            "9s - loss: 0.5388 - val_loss: 0.4174\n",
            "Epoch 87/200\n",
            "9s - loss: 0.5292 - val_loss: 0.4188\n",
            "Epoch 88/200\n",
            "9s - loss: 0.5305 - val_loss: 0.4161\n",
            "Epoch 89/200\n",
            "9s - loss: 0.5273 - val_loss: 0.4190\n",
            "Epoch 90/200\n",
            "9s - loss: 0.5348 - val_loss: 0.4142\n",
            "Epoch 91/200\n",
            "9s - loss: 0.5202 - val_loss: 0.4149\n",
            "Epoch 92/200\n",
            "9s - loss: 0.5258 - val_loss: 0.4122\n",
            "Epoch 93/200\n",
            "9s - loss: 0.5282 - val_loss: 0.4152\n",
            "Epoch 94/200\n",
            "9s - loss: 0.5245 - val_loss: 0.4123\n",
            "Epoch 95/200\n",
            "9s - loss: 0.5228 - val_loss: 0.4150\n",
            "Epoch 96/200\n",
            "9s - loss: 0.5285 - val_loss: 0.4182\n",
            "Epoch 97/200\n",
            "9s - loss: 0.5266 - val_loss: 0.4129\n",
            "Epoch 98/200\n",
            "9s - loss: 0.5271 - val_loss: 0.4165\n",
            "Epoch 99/200\n",
            "9s - loss: 0.5211 - val_loss: 0.4260\n",
            "Epoch 100/200\n",
            "9s - loss: 0.5179 - val_loss: 0.4177\n",
            "Epoch 101/200\n",
            "9s - loss: 0.5190 - val_loss: 0.4091\n",
            "Epoch 102/200\n",
            "9s - loss: 0.5278 - val_loss: 0.4114\n",
            "Epoch 103/200\n",
            "9s - loss: 0.5197 - val_loss: 0.4129\n",
            "Epoch 104/200\n",
            "9s - loss: 0.5193 - val_loss: 0.4122\n",
            "Epoch 105/200\n",
            "9s - loss: 0.5206 - val_loss: 0.4143\n",
            "Epoch 106/200\n",
            "9s - loss: 0.5192 - val_loss: 0.4122\n",
            "Epoch 107/200\n",
            "9s - loss: 0.5185 - val_loss: 0.4101\n",
            "Epoch 108/200\n",
            "9s - loss: 0.5198 - val_loss: 0.4108\n",
            "Epoch 109/200\n",
            "9s - loss: 0.5208 - val_loss: 0.4152\n",
            "Epoch 110/200\n",
            "9s - loss: 0.5156 - val_loss: 0.4100\n",
            "Epoch 111/200\n",
            "9s - loss: 0.5186 - val_loss: 0.4097\n",
            "Epoch 112/200\n",
            "9s - loss: 0.5138 - val_loss: 0.4099\n",
            "Epoch 113/200\n",
            "9s - loss: 0.5143 - val_loss: 0.4182\n",
            "Epoch 114/200\n",
            "9s - loss: 0.5134 - val_loss: 0.4160\n",
            "Epoch 115/200\n",
            "9s - loss: 0.5105 - val_loss: 0.4112\n",
            "Epoch 116/200\n",
            "9s - loss: 0.5191 - val_loss: 0.4146\n",
            "Epoch 117/200\n",
            "9s - loss: 0.5201 - val_loss: 0.4159\n",
            "Epoch 118/200\n",
            "9s - loss: 0.5095 - val_loss: 0.4150\n",
            "Epoch 119/200\n",
            "9s - loss: 0.5088 - val_loss: 0.4136\n",
            "Epoch 120/200\n",
            "9s - loss: 0.5182 - val_loss: 0.4096\n",
            "Epoch 121/200\n",
            "9s - loss: 0.5090 - val_loss: 0.4109\n",
            "Epoch 122/200\n",
            "9s - loss: 0.5144 - val_loss: 0.4089\n",
            "Epoch 123/200\n",
            "9s - loss: 0.5104 - val_loss: 0.4170\n",
            "Epoch 124/200\n",
            "9s - loss: 0.5123 - val_loss: 0.4094\n",
            "Epoch 125/200\n"
          ],
          "name": "stdout"
        },
        {
          "output_type": "stream",
          "text": [
            "9s - loss: 0.5106 - val_loss: 0.4133\n",
            "Epoch 126/200\n",
            "9s - loss: 0.5074 - val_loss: 0.4098\n",
            "Epoch 127/200\n",
            "9s - loss: 0.5073 - val_loss: 0.4087\n",
            "Epoch 128/200\n",
            "9s - loss: 0.5041 - val_loss: 0.4136\n",
            "Epoch 129/200\n",
            "9s - loss: 0.5087 - val_loss: 0.4108\n",
            "Epoch 130/200\n",
            "9s - loss: 0.5083 - val_loss: 0.4115\n",
            "Epoch 131/200\n",
            "9s - loss: 0.5079 - val_loss: 0.4113\n",
            "Epoch 132/200\n",
            "9s - loss: 0.5036 - val_loss: 0.4150\n",
            "Epoch 133/200\n",
            "9s - loss: 0.5011 - val_loss: 0.4168\n",
            "Epoch 134/200\n",
            "9s - loss: 0.5043 - val_loss: 0.4072\n",
            "Epoch 135/200\n",
            "9s - loss: 0.5112 - val_loss: 0.4175\n",
            "Epoch 136/200\n",
            "9s - loss: 0.5046 - val_loss: 0.4083\n",
            "Epoch 137/200\n",
            "9s - loss: 0.4988 - val_loss: 0.4095\n",
            "Epoch 138/200\n",
            "9s - loss: 0.5038 - val_loss: 0.4099\n",
            "Epoch 139/200\n",
            "9s - loss: 0.5001 - val_loss: 0.4107\n",
            "Epoch 140/200\n",
            "9s - loss: 0.5060 - val_loss: 0.4136\n",
            "Epoch 141/200\n",
            "9s - loss: 0.4973 - val_loss: 0.4189\n",
            "Epoch 142/200\n",
            "9s - loss: 0.5082 - val_loss: 0.4118\n",
            "Epoch 143/200\n",
            "9s - loss: 0.5003 - val_loss: 0.4094\n",
            "Epoch 144/200\n",
            "9s - loss: 0.5024 - val_loss: 0.4082\n",
            "Epoch 145/200\n",
            "9s - loss: 0.5059 - val_loss: 0.4125\n",
            "Epoch 146/200\n",
            "9s - loss: 0.4978 - val_loss: 0.4150\n",
            "Epoch 147/200\n",
            "9s - loss: 0.5036 - val_loss: 0.4129\n",
            "Epoch 148/200\n",
            "9s - loss: 0.4932 - val_loss: 0.4078\n",
            "Epoch 149/200\n",
            "9s - loss: 0.4919 - val_loss: 0.4092\n",
            "Epoch 150/200\n",
            "9s - loss: 0.5019 - val_loss: 0.4100\n",
            "Epoch 151/200\n",
            "9s - loss: 0.5056 - val_loss: 0.4125\n",
            "Epoch 152/200\n",
            "9s - loss: 0.5004 - val_loss: 0.4104\n",
            "Epoch 153/200\n",
            "9s - loss: 0.4946 - val_loss: 0.4081\n",
            "Epoch 154/200\n",
            "9s - loss: 0.4964 - val_loss: 0.4100\n",
            "Epoch 155/200\n",
            "9s - loss: 0.4942 - val_loss: 0.4099\n",
            "Epoch 156/200\n",
            "9s - loss: 0.4944 - val_loss: 0.4111\n",
            "Epoch 157/200\n",
            "9s - loss: 0.5015 - val_loss: 0.4133\n",
            "Epoch 158/200\n",
            "9s - loss: 0.4962 - val_loss: 0.4091\n",
            "Epoch 159/200\n",
            "9s - loss: 0.4918 - val_loss: 0.4091\n",
            "Epoch 160/200\n",
            "9s - loss: 0.4969 - val_loss: 0.4102\n",
            "Epoch 161/200\n",
            "9s - loss: 0.4983 - val_loss: 0.4148\n",
            "Epoch 162/200\n",
            "9s - loss: 0.4932 - val_loss: 0.4088\n",
            "Epoch 163/200\n",
            "9s - loss: 0.4949 - val_loss: 0.4095\n",
            "Epoch 164/200\n",
            "9s - loss: 0.5002 - val_loss: 0.4102\n",
            "Epoch 165/200\n",
            "9s - loss: 0.4955 - val_loss: 0.4118\n",
            "Epoch 166/200\n",
            "9s - loss: 0.4949 - val_loss: 0.4102\n",
            "Epoch 167/200\n",
            "9s - loss: 0.4913 - val_loss: 0.4077\n",
            "Epoch 168/200\n",
            "9s - loss: 0.4901 - val_loss: 0.4098\n",
            "Epoch 169/200\n",
            "9s - loss: 0.4986 - val_loss: 0.4094\n",
            "Epoch 170/200\n",
            "9s - loss: 0.4925 - val_loss: 0.4113\n",
            "Epoch 171/200\n",
            "9s - loss: 0.4943 - val_loss: 0.4110\n",
            "Epoch 172/200\n",
            "9s - loss: 0.4864 - val_loss: 0.4103\n",
            "Epoch 173/200\n",
            "9s - loss: 0.4905 - val_loss: 0.4081\n",
            "Epoch 174/200\n",
            "9s - loss: 0.4860 - val_loss: 0.4101\n",
            "Epoch 175/200\n",
            "9s - loss: 0.4931 - val_loss: 0.4081\n",
            "Epoch 176/200\n",
            "9s - loss: 0.4904 - val_loss: 0.4119\n",
            "Epoch 177/200\n",
            "9s - loss: 0.4967 - val_loss: 0.4084\n",
            "Epoch 178/200\n",
            "9s - loss: 0.4879 - val_loss: 0.4065\n",
            "Epoch 179/200\n",
            "9s - loss: 0.4944 - val_loss: 0.4116\n",
            "Epoch 180/200\n",
            "10s - loss: 0.4864 - val_loss: 0.4109\n",
            "Epoch 181/200\n",
            "9s - loss: 0.4883 - val_loss: 0.4070\n",
            "Epoch 182/200\n",
            "9s - loss: 0.4876 - val_loss: 0.4069\n",
            "Epoch 183/200\n",
            "9s - loss: 0.4818 - val_loss: 0.4085\n",
            "Epoch 184/200\n",
            "9s - loss: 0.4876 - val_loss: 0.4080\n",
            "Epoch 185/200\n",
            "9s - loss: 0.4913 - val_loss: 0.4142\n",
            "Epoch 186/200\n",
            "9s - loss: 0.4851 - val_loss: 0.4108\n",
            "Epoch 187/200\n",
            "9s - loss: 0.4894 - val_loss: 0.4093\n",
            "Epoch 188/200\n",
            "9s - loss: 0.4833 - val_loss: 0.4070\n",
            "Epoch 189/200\n",
            "9s - loss: 0.4840 - val_loss: 0.4100\n",
            "Epoch 190/200\n",
            "9s - loss: 0.4886 - val_loss: 0.4073\n",
            "Epoch 191/200\n",
            "9s - loss: 0.4931 - val_loss: 0.4096\n",
            "Epoch 192/200\n",
            "9s - loss: 0.4898 - val_loss: 0.4078\n",
            "Epoch 193/200\n",
            "10s - loss: 0.4855 - val_loss: 0.4074\n",
            "Epoch 194/200\n",
            "9s - loss: 0.4875 - val_loss: 0.4074\n",
            "Epoch 195/200\n",
            "9s - loss: 0.4890 - val_loss: 0.4088\n",
            "Epoch 196/200\n",
            "9s - loss: 0.4832 - val_loss: 0.4086\n",
            "Epoch 197/200\n",
            "9s - loss: 0.4792 - val_loss: 0.4077\n",
            "Epoch 198/200\n",
            "9s - loss: 0.4816 - val_loss: 0.4083\n",
            "Epoch 199/200\n",
            "9s - loss: 0.4903 - val_loss: 0.4079\n",
            "Epoch 200/200\n",
            "9s - loss: 0.4877 - val_loss: 0.4080\n",
            "Fold2, score=1168.0552182866604\n",
            "Epoch 1/200\n",
            "10s - loss: 7.4411 - val_loss: 7.3760\n",
            "Epoch 2/200\n",
            "9s - loss: 3.8219 - val_loss: 1.5355\n",
            "Epoch 3/200\n",
            "9s - loss: 1.6200 - val_loss: 1.3345\n",
            "Epoch 4/200\n",
            "10s - loss: 1.5033 - val_loss: 1.0677\n",
            "Epoch 5/200\n",
            "9s - loss: 1.4117 - val_loss: 1.0239\n",
            "Epoch 6/200\n",
            "9s - loss: 1.3556 - val_loss: 0.9066\n",
            "Epoch 7/200\n",
            "9s - loss: 1.2749 - val_loss: 0.8402\n",
            "Epoch 8/200\n",
            "9s - loss: 1.2059 - val_loss: 0.7825\n",
            "Epoch 9/200\n",
            "9s - loss: 1.1301 - val_loss: 0.7276\n",
            "Epoch 10/200\n",
            "10s - loss: 1.0792 - val_loss: 0.6249\n",
            "Epoch 11/200\n",
            "10s - loss: 1.0387 - val_loss: 0.5713\n",
            "Epoch 12/200\n",
            "9s - loss: 0.9874 - val_loss: 0.5645\n",
            "Epoch 13/200\n",
            "9s - loss: 0.9344 - val_loss: 0.5352\n",
            "Epoch 14/200\n",
            "9s - loss: 0.8987 - val_loss: 0.5250\n",
            "Epoch 15/200\n",
            "10s - loss: 0.8710 - val_loss: 0.5315\n",
            "Epoch 16/200\n",
            "10s - loss: 0.8451 - val_loss: 0.4658\n",
            "Epoch 17/200\n",
            "10s - loss: 0.8044 - val_loss: 0.5079\n",
            "Epoch 18/200\n",
            "9s - loss: 0.7816 - val_loss: 0.4674\n",
            "Epoch 19/200\n",
            "9s - loss: 0.7597 - val_loss: 0.4541\n",
            "Epoch 20/200\n",
            "10s - loss: 0.7323 - val_loss: 0.4507\n",
            "Epoch 21/200\n",
            "9s - loss: 0.7237 - val_loss: 0.4791\n",
            "Epoch 22/200\n",
            "9s - loss: 0.7003 - val_loss: 0.4584\n",
            "Epoch 23/200\n",
            "10s - loss: 0.6883 - val_loss: 0.4328\n",
            "Epoch 24/200\n",
            "9s - loss: 0.6836 - val_loss: 0.4383\n",
            "Epoch 25/200\n",
            "9s - loss: 0.6740 - val_loss: 0.4393\n",
            "Epoch 26/200\n",
            "9s - loss: 0.6560 - val_loss: 0.4387\n",
            "Epoch 27/200\n",
            "9s - loss: 0.6512 - val_loss: 0.4343\n",
            "Epoch 28/200\n",
            "9s - loss: 0.6381 - val_loss: 0.4342\n",
            "Epoch 29/200\n",
            "10s - loss: 0.6312 - val_loss: 0.4273\n",
            "Epoch 30/200\n",
            "9s - loss: 0.6282 - val_loss: 0.4239\n",
            "Epoch 31/200\n",
            "9s - loss: 0.6158 - val_loss: 0.4376\n",
            "Epoch 32/200\n",
            "9s - loss: 0.6142 - val_loss: 0.4313\n",
            "Epoch 33/200\n",
            "9s - loss: 0.6099 - val_loss: 0.4327\n",
            "Epoch 34/200\n",
            "9s - loss: 0.5982 - val_loss: 0.4431\n",
            "Epoch 35/200\n",
            "9s - loss: 0.6037 - val_loss: 0.4256\n",
            "Epoch 36/200\n",
            "9s - loss: 0.5987 - val_loss: 0.4228\n",
            "Epoch 37/200\n",
            "9s - loss: 0.5958 - val_loss: 0.4202\n",
            "Epoch 38/200\n",
            "9s - loss: 0.5927 - val_loss: 0.4246\n",
            "Epoch 39/200\n",
            "9s - loss: 0.5953 - val_loss: 0.4181\n",
            "Epoch 40/200\n",
            "9s - loss: 0.5784 - val_loss: 0.4183\n",
            "Epoch 41/200\n",
            "10s - loss: 0.5860 - val_loss: 0.4213\n",
            "Epoch 42/200\n",
            "10s - loss: 0.5778 - val_loss: 0.4242\n",
            "Epoch 43/200\n",
            "9s - loss: 0.5865 - val_loss: 0.4223\n",
            "Epoch 44/200\n",
            "9s - loss: 0.5805 - val_loss: 0.4322\n",
            "Epoch 45/200\n",
            "9s - loss: 0.5738 - val_loss: 0.4226\n",
            "Epoch 46/200\n",
            "9s - loss: 0.5718 - val_loss: 0.4217\n",
            "Epoch 47/200\n",
            "10s - loss: 0.5632 - val_loss: 0.4185\n",
            "Epoch 48/200\n",
            "10s - loss: 0.5634 - val_loss: 0.4180\n",
            "Epoch 49/200\n",
            "9s - loss: 0.5719 - val_loss: 0.4146\n",
            "Epoch 50/200\n",
            "9s - loss: 0.5641 - val_loss: 0.4167\n",
            "Epoch 51/200\n",
            "9s - loss: 0.5598 - val_loss: 0.4164\n",
            "Epoch 52/200\n",
            "9s - loss: 0.5644 - val_loss: 0.4273\n",
            "Epoch 53/200\n",
            "9s - loss: 0.5609 - val_loss: 0.4254\n",
            "Epoch 54/200\n",
            "9s - loss: 0.5636 - val_loss: 0.4191\n",
            "Epoch 55/200\n",
            "9s - loss: 0.5585 - val_loss: 0.4264\n",
            "Epoch 56/200\n",
            "9s - loss: 0.5629 - val_loss: 0.4256\n",
            "Epoch 57/200\n",
            "9s - loss: 0.5629 - val_loss: 0.4298\n",
            "Epoch 58/200\n",
            "9s - loss: 0.5545 - val_loss: 0.4195\n",
            "Epoch 59/200\n",
            "9s - loss: 0.5513 - val_loss: 0.4186\n",
            "Epoch 60/200\n",
            "9s - loss: 0.5492 - val_loss: 0.4317\n",
            "Epoch 61/200\n",
            "9s - loss: 0.5493 - val_loss: 0.4290\n",
            "Epoch 62/200\n",
            "9s - loss: 0.5581 - val_loss: 0.4150\n",
            "Epoch 63/200\n",
            "9s - loss: 0.5559 - val_loss: 0.4293\n",
            "Epoch 64/200\n",
            "9s - loss: 0.5593 - val_loss: 0.4158\n",
            "Epoch 65/200\n",
            "10s - loss: 0.5500 - val_loss: 0.4178\n",
            "Epoch 66/200\n",
            "9s - loss: 0.5475 - val_loss: 0.4157\n",
            "Epoch 67/200\n",
            "9s - loss: 0.5475 - val_loss: 0.4148\n",
            "Epoch 68/200\n",
            "9s - loss: 0.5383 - val_loss: 0.4180\n",
            "Epoch 69/200\n",
            "9s - loss: 0.5506 - val_loss: 0.4168\n",
            "Epoch 70/200\n",
            "9s - loss: 0.5477 - val_loss: 0.4270\n",
            "Epoch 71/200\n",
            "9s - loss: 0.5442 - val_loss: 0.4229\n",
            "Epoch 72/200\n",
            "10s - loss: 0.5380 - val_loss: 0.4229\n",
            "Epoch 73/200\n",
            "9s - loss: 0.5439 - val_loss: 0.4167\n",
            "Epoch 74/200\n",
            "9s - loss: 0.5418 - val_loss: 0.4167\n",
            "Epoch 75/200\n",
            "9s - loss: 0.5454 - val_loss: 0.4118\n",
            "Epoch 76/200\n",
            "10s - loss: 0.5343 - val_loss: 0.4144\n",
            "Epoch 77/200\n",
            "9s - loss: 0.5392 - val_loss: 0.4097\n",
            "Epoch 78/200\n",
            "9s - loss: 0.5378 - val_loss: 0.4228\n",
            "Epoch 79/200\n",
            "9s - loss: 0.5323 - val_loss: 0.4202\n",
            "Epoch 80/200\n",
            "9s - loss: 0.5330 - val_loss: 0.4194\n",
            "Epoch 81/200\n",
            "9s - loss: 0.5371 - val_loss: 0.4171\n",
            "Epoch 82/200\n",
            "9s - loss: 0.5294 - val_loss: 0.4116\n",
            "Epoch 83/200\n",
            "9s - loss: 0.5361 - val_loss: 0.4187\n",
            "Epoch 84/200\n",
            "9s - loss: 0.5291 - val_loss: 0.4151\n",
            "Epoch 85/200\n",
            "9s - loss: 0.5383 - val_loss: 0.4159\n",
            "Epoch 86/200\n",
            "9s - loss: 0.5306 - val_loss: 0.4103\n",
            "Epoch 87/200\n"
          ],
          "name": "stdout"
        },
        {
          "output_type": "stream",
          "text": [
            "9s - loss: 0.5313 - val_loss: 0.4115\n",
            "Epoch 88/200\n",
            "10s - loss: 0.5316 - val_loss: 0.4135\n",
            "Epoch 89/200\n",
            "9s - loss: 0.5350 - val_loss: 0.4097\n",
            "Epoch 90/200\n",
            "9s - loss: 0.5224 - val_loss: 0.4161\n",
            "Epoch 91/200\n",
            "9s - loss: 0.5258 - val_loss: 0.4136\n",
            "Epoch 92/200\n",
            "9s - loss: 0.5298 - val_loss: 0.4149\n",
            "Epoch 93/200\n",
            "9s - loss: 0.5264 - val_loss: 0.4107\n",
            "Epoch 94/200\n",
            "9s - loss: 0.5224 - val_loss: 0.4152\n",
            "Epoch 95/200\n",
            "9s - loss: 0.5175 - val_loss: 0.4164\n",
            "Epoch 96/200\n",
            "10s - loss: 0.5215 - val_loss: 0.4205\n",
            "Epoch 97/200\n",
            "9s - loss: 0.5243 - val_loss: 0.4102\n",
            "Epoch 98/200\n",
            "9s - loss: 0.5251 - val_loss: 0.4117\n",
            "Epoch 99/200\n",
            "9s - loss: 0.5218 - val_loss: 0.4122\n",
            "Epoch 100/200\n",
            "9s - loss: 0.5169 - val_loss: 0.4137\n",
            "Epoch 101/200\n",
            "9s - loss: 0.5206 - val_loss: 0.4170\n",
            "Epoch 102/200\n",
            "9s - loss: 0.5188 - val_loss: 0.4151\n",
            "Epoch 103/200\n",
            "9s - loss: 0.5197 - val_loss: 0.4110\n",
            "Epoch 104/200\n",
            "9s - loss: 0.5173 - val_loss: 0.4142\n",
            "Epoch 105/200\n",
            "9s - loss: 0.5134 - val_loss: 0.4169\n",
            "Epoch 106/200\n",
            "9s - loss: 0.5242 - val_loss: 0.4135\n",
            "Epoch 107/200\n",
            "9s - loss: 0.5148 - val_loss: 0.4121\n",
            "Epoch 108/200\n",
            "9s - loss: 0.5154 - val_loss: 0.4174\n",
            "Epoch 109/200\n",
            "9s - loss: 0.5179 - val_loss: 0.4090\n",
            "Epoch 110/200\n",
            "9s - loss: 0.5182 - val_loss: 0.4118\n",
            "Epoch 111/200\n",
            "9s - loss: 0.5154 - val_loss: 0.4169\n",
            "Epoch 112/200\n",
            "10s - loss: 0.5203 - val_loss: 0.4208\n",
            "Epoch 113/200\n",
            "10s - loss: 0.5204 - val_loss: 0.4133\n",
            "Epoch 114/200\n",
            "10s - loss: 0.5159 - val_loss: 0.4251\n",
            "Epoch 115/200\n",
            "10s - loss: 0.5208 - val_loss: 0.4175\n",
            "Epoch 116/200\n",
            "10s - loss: 0.5249 - val_loss: 0.4136\n",
            "Epoch 117/200\n",
            "10s - loss: 0.5127 - val_loss: 0.4080\n",
            "Epoch 118/200\n",
            "9s - loss: 0.5124 - val_loss: 0.4147\n",
            "Epoch 119/200\n",
            "10s - loss: 0.5050 - val_loss: 0.4080\n",
            "Epoch 120/200\n",
            "9s - loss: 0.5112 - val_loss: 0.4108\n",
            "Epoch 121/200\n",
            "10s - loss: 0.5053 - val_loss: 0.4145\n",
            "Epoch 122/200\n",
            "9s - loss: 0.5135 - val_loss: 0.4193\n",
            "Epoch 123/200\n",
            "9s - loss: 0.5087 - val_loss: 0.4110\n",
            "Epoch 124/200\n",
            "10s - loss: 0.5100 - val_loss: 0.4131\n",
            "Epoch 125/200\n",
            "10s - loss: 0.5089 - val_loss: 0.4090\n",
            "Epoch 126/200\n",
            "10s - loss: 0.5165 - val_loss: 0.4090\n",
            "Epoch 127/200\n",
            "9s - loss: 0.5074 - val_loss: 0.4089\n",
            "Epoch 128/200\n",
            "10s - loss: 0.5092 - val_loss: 0.4183\n",
            "Epoch 129/200\n",
            "10s - loss: 0.5104 - val_loss: 0.4100\n",
            "Epoch 130/200\n",
            "9s - loss: 0.5118 - val_loss: 0.4088\n",
            "Epoch 131/200\n",
            "10s - loss: 0.5046 - val_loss: 0.4152\n",
            "Epoch 132/200\n",
            "10s - loss: 0.5062 - val_loss: 0.4160\n",
            "Epoch 133/200\n",
            "10s - loss: 0.4950 - val_loss: 0.4113\n",
            "Epoch 134/200\n",
            "9s - loss: 0.5061 - val_loss: 0.4097\n",
            "Epoch 135/200\n",
            "9s - loss: 0.5022 - val_loss: 0.4118\n",
            "Epoch 136/200\n",
            "10s - loss: 0.5071 - val_loss: 0.4092\n",
            "Epoch 137/200\n",
            "10s - loss: 0.5080 - val_loss: 0.4089\n",
            "Epoch 138/200\n",
            "10s - loss: 0.5000 - val_loss: 0.4102\n",
            "Epoch 139/200\n",
            "10s - loss: 0.5030 - val_loss: 0.4115\n",
            "Epoch 140/200\n",
            "10s - loss: 0.5074 - val_loss: 0.4119\n",
            "Epoch 141/200\n",
            "10s - loss: 0.5065 - val_loss: 0.4098\n",
            "Epoch 142/200\n",
            "10s - loss: 0.5059 - val_loss: 0.4119\n",
            "Epoch 143/200\n",
            "10s - loss: 0.5049 - val_loss: 0.4102\n",
            "Epoch 144/200\n",
            "10s - loss: 0.4955 - val_loss: 0.4106\n",
            "Epoch 145/200\n",
            "10s - loss: 0.5021 - val_loss: 0.4128\n",
            "Epoch 146/200\n",
            "10s - loss: 0.4985 - val_loss: 0.4100\n",
            "Epoch 147/200\n",
            "9s - loss: 0.5010 - val_loss: 0.4082\n",
            "Epoch 148/200\n",
            "9s - loss: 0.4972 - val_loss: 0.4077\n",
            "Epoch 149/200\n",
            "10s - loss: 0.4976 - val_loss: 0.4071\n",
            "Epoch 150/200\n",
            "10s - loss: 0.5056 - val_loss: 0.4130\n",
            "Epoch 151/200\n",
            "9s - loss: 0.4973 - val_loss: 0.4142\n",
            "Epoch 152/200\n",
            "9s - loss: 0.4978 - val_loss: 0.4114\n",
            "Epoch 153/200\n",
            "9s - loss: 0.4968 - val_loss: 0.4104\n",
            "Epoch 154/200\n",
            "10s - loss: 0.4947 - val_loss: 0.4111\n",
            "Epoch 155/200\n",
            "9s - loss: 0.4934 - val_loss: 0.4139\n",
            "Epoch 156/200\n",
            "9s - loss: 0.4987 - val_loss: 0.4102\n",
            "Epoch 157/200\n",
            "9s - loss: 0.4965 - val_loss: 0.4081\n",
            "Epoch 158/200\n",
            "9s - loss: 0.4935 - val_loss: 0.4088\n",
            "Epoch 159/200\n",
            "10s - loss: 0.4938 - val_loss: 0.4087\n",
            "Epoch 160/200\n",
            "10s - loss: 0.4961 - val_loss: 0.4076\n",
            "Epoch 161/200\n",
            "10s - loss: 0.4947 - val_loss: 0.4113\n",
            "Epoch 162/200\n",
            "10s - loss: 0.4998 - val_loss: 0.4099\n",
            "Epoch 163/200\n",
            "10s - loss: 0.4903 - val_loss: 0.4106\n",
            "Epoch 164/200\n",
            "10s - loss: 0.4939 - val_loss: 0.4086\n",
            "Epoch 165/200\n",
            "10s - loss: 0.4932 - val_loss: 0.4078\n",
            "Epoch 166/200\n",
            "9s - loss: 0.4899 - val_loss: 0.4087\n",
            "Epoch 167/200\n",
            "9s - loss: 0.4939 - val_loss: 0.4095\n",
            "Epoch 168/200\n",
            "10s - loss: 0.4938 - val_loss: 0.4149\n",
            "Epoch 169/200\n",
            "10s - loss: 0.4930 - val_loss: 0.4090\n",
            "Epoch 170/200\n",
            "9s - loss: 0.4950 - val_loss: 0.4086\n",
            "Epoch 171/200\n",
            "10s - loss: 0.4908 - val_loss: 0.4224\n",
            "Epoch 172/200\n",
            "10s - loss: 0.4910 - val_loss: 0.4140\n",
            "Epoch 173/200\n",
            "10s - loss: 0.4906 - val_loss: 0.4097\n",
            "Epoch 174/200\n",
            "9s - loss: 0.4854 - val_loss: 0.4062\n",
            "Epoch 175/200\n",
            "9s - loss: 0.4896 - val_loss: 0.4073\n",
            "Epoch 176/200\n",
            "10s - loss: 0.4922 - val_loss: 0.4109\n",
            "Epoch 177/200\n",
            "9s - loss: 0.4893 - val_loss: 0.4061\n",
            "Epoch 178/200\n",
            "9s - loss: 0.4882 - val_loss: 0.4070\n",
            "Epoch 179/200\n",
            "10s - loss: 0.4888 - val_loss: 0.4076\n",
            "Epoch 180/200\n",
            "10s - loss: 0.4888 - val_loss: 0.4131\n",
            "Epoch 181/200\n",
            "10s - loss: 0.4887 - val_loss: 0.4092\n",
            "Epoch 182/200\n",
            "10s - loss: 0.4885 - val_loss: 0.4089\n",
            "Epoch 183/200\n",
            "11s - loss: 0.4833 - val_loss: 0.4105\n",
            "Epoch 184/200\n",
            "11s - loss: 0.4829 - val_loss: 0.4078\n",
            "Epoch 185/200\n",
            "11s - loss: 0.4815 - val_loss: 0.4068\n",
            "Epoch 186/200\n",
            "16s - loss: 0.4887 - val_loss: 0.4087\n",
            "Epoch 187/200\n",
            "16s - loss: 0.4862 - val_loss: 0.4072\n",
            "Epoch 188/200\n",
            "16s - loss: 0.4827 - val_loss: 0.4064\n",
            "Epoch 189/200\n",
            "17s - loss: 0.4896 - val_loss: 0.4128\n",
            "Epoch 190/200\n",
            "16s - loss: 0.4811 - val_loss: 0.4074\n",
            "Epoch 191/200\n",
            "16s - loss: 0.4880 - val_loss: 0.4064\n",
            "Epoch 192/200\n",
            "16s - loss: 0.4863 - val_loss: 0.4060\n",
            "Epoch 193/200\n",
            "16s - loss: 0.4880 - val_loss: 0.4067\n",
            "Epoch 194/200\n",
            "16s - loss: 0.4887 - val_loss: 0.4152\n",
            "Epoch 195/200\n",
            "16s - loss: 0.4826 - val_loss: 0.4073\n",
            "Epoch 196/200\n",
            "16s - loss: 0.4881 - val_loss: 0.4063\n",
            "Epoch 197/200\n",
            "16s - loss: 0.4889 - val_loss: 0.4112\n",
            "Epoch 198/200\n",
            "16s - loss: 0.4793 - val_loss: 0.4094\n",
            "Epoch 199/200\n",
            "16s - loss: 0.4829 - val_loss: 0.4078\n",
            "Epoch 200/200\n",
            "16s - loss: 0.4815 - val_loss: 0.4083\n",
            "Fold3, score=1163.7617917748714\n"
          ],
          "name": "stdout"
        }
      ]
    },
    {
      "metadata": {
        "id": "d595acnq1n9o",
        "colab_type": "code",
        "colab": {
          "autoexec": {
            "startup": false,
            "wait_interval": 0
          },
          "output_extras": [
            {}
          ]
        },
        "outputId": "3da4a63d-5b62-4ba8-e2d8-f633face40b2"
      },
      "cell_type": "code",
      "source": [
        "np.mean(scores)\n"
      ],
      "execution_count": 0,
      "outputs": [
        {
          "output_type": "execute_result",
          "data": {
            "text/plain": [
              "1164.9259660715263"
            ]
          },
          "metadata": {
            "tags": []
          },
          "execution_count": 25
        }
      ]
    },
    {
      "metadata": {
        "id": "qjclVaGr1n9u",
        "colab_type": "code",
        "colab": {
          "autoexec": {
            "startup": false,
            "wait_interval": 0
          }
        }
      },
      "cell_type": "code",
      "source": [
        ""
      ],
      "execution_count": 0,
      "outputs": []
    },
    {
      "metadata": {
        "id": "GupPdpUC1n9x",
        "colab_type": "code",
        "colab": {
          "autoexec": {
            "startup": false,
            "wait_interval": 0
          }
        }
      },
      "cell_type": "code",
      "source": [
        ""
      ],
      "execution_count": 0,
      "outputs": []
    },
    {
      "metadata": {
        "id": "6Mp3yLEb1n92",
        "colab_type": "text"
      },
      "cell_type": "markdown",
      "source": [
        "## NN & XGBoost on the same split"
      ]
    },
    {
      "metadata": {
        "id": "W0xxvfkO1n94",
        "colab_type": "text"
      },
      "cell_type": "markdown",
      "source": [
        "### First model - NN"
      ]
    },
    {
      "metadata": {
        "id": "tSXSkiaR1n95",
        "colab_type": "code",
        "colab": {
          "autoexec": {
            "startup": false,
            "wait_interval": 0
          }
        }
      },
      "cell_type": "code",
      "source": [
        "#import numpy as np"
      ],
      "execution_count": 0,
      "outputs": []
    },
    {
      "metadata": {
        "id": "xz22hI-E1n-C",
        "colab_type": "code",
        "colab": {
          "autoexec": {
            "startup": false,
            "wait_interval": 0
          }
        }
      },
      "cell_type": "code",
      "source": [
        "#common split\n",
        "X_train, X_test, y_train, y_test = train_test_split(X, y, test_size=0.33, random_state=123)"
      ],
      "execution_count": 0,
      "outputs": []
    },
    {
      "metadata": {
        "id": "X5Dn3UBe1n-F",
        "colab_type": "code",
        "colab": {
          "autoexec": {
            "startup": false,
            "wait_interval": 0
          }
        }
      },
      "cell_type": "code",
      "source": [
        "#reverse transformation\n",
        "#X_train_log = (np.exp(X_train)) - log_shift\n",
        "#X_test_log = np.exp(X_test) - log_shift\n",
        "\n",
        "#y_train_log = np.exp(y_train) - log_shift\n",
        "#y_test_log = np.exp(y_test) - log_shift"
      ],
      "execution_count": 0,
      "outputs": []
    },
    {
      "metadata": {
        "id": "DCecavrZ1n-K",
        "colab_type": "code",
        "colab": {
          "autoexec": {
            "startup": false,
            "wait_interval": 0
          }
        }
      },
      "cell_type": "code",
      "source": [
        ""
      ],
      "execution_count": 0,
      "outputs": []
    },
    {
      "metadata": {
        "id": "Aq3IfG5G1n-M",
        "colab_type": "code",
        "colab": {
          "autoexec": {
            "startup": false,
            "wait_interval": 0
          }
        }
      },
      "cell_type": "code",
      "source": [
        "#already trained - predict only\n",
        "    \n",
        "y_pred_nn = (np.exp(model.predict_generator(generator = batch_generatorp(X_test, 128, False), steps = X_test.shape[0])[:,0]))-log_shift  \n",
        "y_pred_nn_train = (np.exp(model.predict_generator(generator = batch_generatorp(X_train, 128, False), steps = X_test.shape[0])[:,0]))-log_shift"
      ],
      "execution_count": 0,
      "outputs": []
    },
    {
      "metadata": {
        "id": "Ot89lFlC1n-Q",
        "colab_type": "code",
        "colab": {
          "autoexec": {
            "startup": false,
            "wait_interval": 0
          }
        }
      },
      "cell_type": "code",
      "source": [
        "#y_pred_nn"
      ],
      "execution_count": 0,
      "outputs": []
    },
    {
      "metadata": {
        "id": "6M5yxA8x1n-T",
        "colab_type": "code",
        "colab": {
          "autoexec": {
            "startup": false,
            "wait_interval": 0
          },
          "output_extras": [
            {}
          ]
        },
        "outputId": "11f97cdb-1993-4993-a3b6-ed4f50136957"
      },
      "cell_type": "code",
      "source": [
        "#score on test and train set -> to  spot potential overfitting\n",
        "mean_absolute_error((np.exp(y_test))-log_shift, y_pred_nn), mean_absolute_error((np.exp(y_train))-log_shift, y_pred_nn_train)"
      ],
      "execution_count": 0,
      "outputs": [
        {
          "output_type": "execute_result",
          "data": {
            "text/plain": [
              "(1136.4458447996337, 1139.5872935766567)"
            ]
          },
          "metadata": {
            "tags": []
          },
          "execution_count": 38
        }
      ]
    },
    {
      "metadata": {
        "id": "1U95MZ0f1n-W",
        "colab_type": "code",
        "colab": {
          "autoexec": {
            "startup": false,
            "wait_interval": 0
          }
        }
      },
      "cell_type": "code",
      "source": [
        "#quite promising ^"
      ],
      "execution_count": 0,
      "outputs": []
    },
    {
      "metadata": {
        "id": "LTVG1ZRj1n-Z",
        "colab_type": "code",
        "colab": {
          "autoexec": {
            "startup": false,
            "wait_interval": 0
          }
        }
      },
      "cell_type": "code",
      "source": [
        ""
      ],
      "execution_count": 0,
      "outputs": []
    },
    {
      "metadata": {
        "id": "R5Kqoae51n-b",
        "colab_type": "text"
      },
      "cell_type": "markdown",
      "source": [
        "### Second Model - XGBregressor"
      ]
    },
    {
      "metadata": {
        "id": "Y7N_uYA51n-b",
        "colab_type": "code",
        "colab": {
          "autoexec": {
            "startup": false,
            "wait_interval": 0
          },
          "output_extras": [
            {}
          ]
        },
        "outputId": "b33ef1da-c0fe-4f8d-9129-501b892ceff7"
      },
      "cell_type": "code",
      "source": [
        "#instatiate model - parameters from hyperopt/some experiments\n",
        "xgb_model = XGBRegressor(colsample_bytree= 0.5, \n",
        "                         n_estimators=1000,\n",
        "                         learning_rate= 0.01, \n",
        "                         max_depth= 10,\n",
        "                         min_child_weight= 5, \n",
        "                         reg_alpha= 2.03,\n",
        "                         reg_lambda= 0.85, \n",
        "                         seed= 6300, \n",
        "                         subsample= 0.5)\n",
        "\n",
        "xgb_model"
      ],
      "execution_count": 0,
      "outputs": [
        {
          "output_type": "execute_result",
          "data": {
            "text/plain": [
              "XGBRegressor(base_score=0.5, booster='gbtree', colsample_bylevel=1,\n",
              "       colsample_bytree=0.5, gamma=0, learning_rate=0.01, max_delta_step=0,\n",
              "       max_depth=10, min_child_weight=5, missing=None, n_estimators=1000,\n",
              "       n_jobs=1, nthread=None, objective='reg:linear', random_state=0,\n",
              "       reg_alpha=2.03, reg_lambda=0.85, scale_pos_weight=1, seed=6300,\n",
              "       silent=True, subsample=0.5)"
            ]
          },
          "metadata": {
            "tags": []
          },
          "execution_count": 49
        }
      ]
    },
    {
      "metadata": {
        "id": "FmB9iW0W1n-g",
        "colab_type": "code",
        "colab": {
          "autoexec": {
            "startup": false,
            "wait_interval": 0
          }
        }
      },
      "cell_type": "code",
      "source": [
        "#fit it to the same data as NN above\n",
        "xgb_model.fit(X_train, y_train)    \n",
        "y_pred_xgb = xgb_model.predict(X_test)\n",
        "y_pred_xgb_train = xgb_model.predict(X_train) "
      ],
      "execution_count": 0,
      "outputs": []
    },
    {
      "metadata": {
        "id": "p9PrljZe1n-i",
        "colab_type": "code",
        "colab": {
          "autoexec": {
            "startup": false,
            "wait_interval": 0
          }
        }
      },
      "cell_type": "code",
      "source": [
        "#reverse\n",
        "y_pred_xgb = np.exp(y_pred_xgb)-log_shift\n",
        "y_pred_xgb_train = np.exp(y_pred_xgb_train)-log_shift"
      ],
      "execution_count": 0,
      "outputs": []
    },
    {
      "metadata": {
        "id": "Aip2v6Ye1n-l",
        "colab_type": "code",
        "colab": {
          "autoexec": {
            "startup": false,
            "wait_interval": 0
          },
          "output_extras": [
            {}
          ]
        },
        "outputId": "116cafb6-ad78-4ef6-baa2-ed52376ce5b4"
      },
      "cell_type": "code",
      "source": [
        "#score second model - is it any better than NN?\n",
        "mean_absolute_error(np.exp(y_test)-log_shift, y_pred_xgb), mean_absolute_error(np.exp(y_train), y_pred_xgb_train)"
      ],
      "execution_count": 0,
      "outputs": [
        {
          "output_type": "execute_result",
          "data": {
            "text/plain": [
              "(1148.4671401346955, 1055.6095619473656)"
            ]
          },
          "metadata": {
            "tags": []
          },
          "execution_count": 52
        }
      ]
    },
    {
      "metadata": {
        "id": "Aw6q2Wg-1n-o",
        "colab_type": "code",
        "colab": {
          "autoexec": {
            "startup": false,
            "wait_interval": 0
          }
        }
      },
      "cell_type": "code",
      "source": [
        "#make custom metric - mae with log shift to reverse transformation\n",
        "def my_mae(y, y_pred):\n",
        "    return np.sum(np.absolute((((np.exp(y_pred.astype(\"float\")))-50) - ((np.exp(y.astype(\"float\"))-50)))))/len(y)"
      ],
      "execution_count": 0,
      "outputs": []
    },
    {
      "metadata": {
        "id": "pMdV1II51n-x",
        "colab_type": "code",
        "colab": {
          "autoexec": {
            "startup": false,
            "wait_interval": 0
          }
        }
      },
      "cell_type": "code",
      "source": [
        "#check overfitting and overall performance with this function\n",
        "def plot_learning_curve(model, title, X, y, ylim=None, cv=None,\n",
        "                        n_jobs=1, train_sizes=np.linspace(.1, 1.0, 5)):\n",
        "    \n",
        "    plt.figure(figsize=(12,8))\n",
        "    plt.title(title)\n",
        "    if ylim is not None:plt.ylim(*ylim)\n",
        "\n",
        "    plt.xlabel(\"Training examples\")\n",
        "    plt.ylabel(\"Score\")\n",
        "    \n",
        "    train_sizes, train_scores, test_scores = learning_curve(\n",
        "        model, X, y, cv=cv, n_jobs=n_jobs, train_sizes=train_sizes, scoring=make_scorer(my_mae))\n",
        "    train_scores_mean = np.mean(train_scores, axis=1)\n",
        "    train_scores_std = np.std(train_scores, axis=1)\n",
        "    test_scores_mean = np.mean(test_scores, axis=1)\n",
        "    test_scores_std = np.std(test_scores, axis=1)\n",
        "    plt.grid()\n",
        "\n",
        "    plt.fill_between(train_sizes, train_scores_mean - train_scores_std,\n",
        "                     train_scores_mean + train_scores_std, alpha=0.1,\n",
        "                     color=\"r\")\n",
        "    plt.fill_between(train_sizes, test_scores_mean - test_scores_std,\n",
        "                     test_scores_mean + test_scores_std, alpha=0.1, color=\"g\")\n",
        "    plt.plot(train_sizes, train_scores_mean, 'o-', color=\"r\",\n",
        "             label=\"Training score\")\n",
        "    plt.plot(train_sizes, test_scores_mean, 'o-', color=\"g\",\n",
        "             label=\"Cross-validation score\")\n",
        "\n",
        "    plt.legend(loc=\"best\")\n",
        "    return plt"
      ],
      "execution_count": 0,
      "outputs": []
    },
    {
      "metadata": {
        "id": "zR1nSeYn1n-0",
        "colab_type": "code",
        "colab": {
          "autoexec": {
            "startup": false,
            "wait_interval": 0
          },
          "output_extras": [
            {}
          ]
        },
        "outputId": "706b1be2-758c-4624-fbc8-5c6266fdc42b"
      },
      "cell_type": "code",
      "source": [
        "plt = plot_learning_curve(xgb_model, \"Learning Curves: XGBoost\", X, y, cv=3, n_jobs=-1) \n",
        "plt.show()"
      ],
      "execution_count": 0,
      "outputs": [
        {
          "output_type": "display_data",
          "data": {
            "image/png": "[encoded data removed]",
            "text/plain": [
              "<matplotlib.figure.Figure at 0x7f61c631d0b8>"
            ]
          },
          "metadata": {
            "tags": []
          }
        }
      ]
    },
    {
      "metadata": {
        "id": "43l10o1h1n-3",
        "colab_type": "text"
      },
      "cell_type": "markdown",
      "source": [
        "# Combine!"
      ]
    },
    {
      "metadata": {
        "id": "EIwBNUaP1n-4",
        "colab_type": "text"
      },
      "cell_type": "markdown",
      "source": [
        "### Final score from previous two"
      ]
    },
    {
      "metadata": {
        "id": "1OXeehO-1n-4",
        "colab_type": "code",
        "colab": {
          "autoexec": {
            "startup": false,
            "wait_interval": 0
          }
        }
      },
      "cell_type": "code",
      "source": [
        ""
      ],
      "execution_count": 0,
      "outputs": []
    },
    {
      "metadata": {
        "id": "ioA5kllY1n-7",
        "colab_type": "code",
        "colab": {
          "autoexec": {
            "startup": false,
            "wait_interval": 0
          }
        }
      },
      "cell_type": "code",
      "source": [
        "pred_combined = (y_pred_xgb + y_pred_nn)/2 \n",
        "#eksperymenty z wagi, wrzucić na kaggla, ew. overfitting + wnioski, \n",
        "#z xgboost optymalizacji da się coś wycisnąć"
      ],
      "execution_count": 0,
      "outputs": []
    },
    {
      "metadata": {
        "id": "kCgOAUxr1n_B",
        "colab_type": "code",
        "colab": {
          "autoexec": {
            "startup": false,
            "wait_interval": 0
          },
          "output_extras": [
            {}
          ]
        },
        "outputId": "8e93b49c-29a8-4bac-b15a-d29b9c80a0ae"
      },
      "cell_type": "code",
      "source": [
        "pred_combined"
      ],
      "execution_count": 0,
      "outputs": [
        {
          "output_type": "execute_result",
          "data": {
            "text/plain": [
              "array([  1071.07397461,   1794.1307373 ,   1893.58837891, ...,\n",
              "         1355.07043457,   2266.56982422,  12647.1171875 ], dtype=float32)"
            ]
          },
          "metadata": {
            "tags": []
          },
          "execution_count": 75
        }
      ]
    },
    {
      "metadata": {
        "id": "Avm1l8hB1n_F",
        "colab_type": "code",
        "colab": {
          "autoexec": {
            "startup": false,
            "wait_interval": 0
          },
          "output_extras": [
            {}
          ]
        },
        "outputId": "9509aab6-7eb8-4d4f-face-7f83df9ffdf2"
      },
      "cell_type": "code",
      "source": [
        "mean_absolute_error(np.exp(y_test)-log_shift, pred_combined)"
      ],
      "execution_count": 0,
      "outputs": [
        {
          "output_type": "execute_result",
          "data": {
            "text/plain": [
              "1133.0219171268195"
            ]
          },
          "metadata": {
            "tags": []
          },
          "execution_count": 76
        }
      ]
    },
    {
      "metadata": {
        "id": "wbggbwvp1n_O",
        "colab_type": "text"
      },
      "cell_type": "markdown",
      "source": [
        "# Conclusions\n",
        "\n",
        "We can sognificantly improve our results without \"stacking\" simply by averaging outputs from two different models. Final results is quite good - I expected MAE aroung 1150, and get 1133, with some space for improvements. This can helps us improve insurance industry -  when insurance agents dont have to focus on task which can be autometed, the can focus more on *people*. I believe it is great improvement."
      ]
    }
  ]
}